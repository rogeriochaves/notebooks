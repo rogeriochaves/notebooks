{
 "cells": [
  {
   "cell_type": "code",
   "execution_count": 1,
   "metadata": {},
   "outputs": [
    {
     "name": "stdout",
     "output_type": "stream",
     "text": [
      "Requirement already satisfied: pandas in /usr/local/lib/python3.6/site-packages (0.20.3)\n",
      "Requirement already satisfied: numpy in /usr/local/lib/python3.6/site-packages (1.13.1)\n",
      "Requirement already satisfied: causality in /usr/local/lib/python3.6/site-packages (0.0.6)\n",
      "Requirement already satisfied: python-dateutil>=2 in /usr/local/lib/python3.6/site-packages (from pandas) (2.7.3)\n",
      "Requirement already satisfied: pytz>=2011k in /usr/local/lib/python3.6/site-packages (from pandas) (2017.3)\n",
      "Requirement already satisfied: statsmodels in /usr/local/lib/python3.6/site-packages (from causality) (0.9.0)\n",
      "Requirement already satisfied: decorator in /usr/local/lib/python3.6/site-packages (from causality) (4.3.0)\n",
      "Requirement already satisfied: scipy in /usr/local/lib/python3.6/site-packages (from causality) (0.19.1)\n",
      "Requirement already satisfied: six in /usr/local/lib/python3.6/site-packages (from causality) (1.11.0)\n",
      "Requirement already satisfied: patsy in /usr/local/lib/python3.6/site-packages (from causality) (0.5.0)\n",
      "Requirement already satisfied: pymc in /usr/local/lib/python3.6/site-packages (from causality) (2.3.6)\n",
      "Requirement already satisfied: networkx in /usr/local/lib/python3.6/site-packages (from causality) (1.11)\n",
      "\n"
     ]
    }
   ],
   "source": [
    "import subprocess\n",
    "\n",
    "command = \"pip3 install pandas numpy causality\"\n",
    "print(subprocess.check_output(['bash','-c',command]).decode('utf-8'))"
   ]
  },
  {
   "cell_type": "code",
   "execution_count": 2,
   "metadata": {},
   "outputs": [],
   "source": [
    "import pandas as pd\n",
    "import numpy as np\n",
    "from causality.inference.search import IC\n",
    "from causality.inference.independence_tests import RobustRegressionTest"
   ]
  },
  {
   "cell_type": "code",
   "execution_count": 3,
   "metadata": {},
   "outputs": [],
   "source": [
    "SIZE = 2000\n",
    "x1 = np.random.normal(size=SIZE)\n",
    "x2 = x1 + np.random.normal(size=SIZE)\n",
    "x3 = x1 + np.random.normal(size=SIZE)\n",
    "x4 = x2 + x3 + np.random.normal(size=SIZE)\n",
    "x5 = x4 + np.random.normal(size=SIZE)\n",
    "\n",
    "# load the data into a dataframe:\n",
    "X = pd.DataFrame({'x1' : x1, 'x2' : x2, 'x3' : x3, 'x4' : x4, 'x5' : x5})\n",
    "\n",
    "# define the variable types: 'c' is 'continuous'.  The variables defined here\n",
    "# are the ones the search is performed over  -- NOT all the variables defined\n",
    "# in the data frame.\n",
    "variable_types = {'x1' : 'c', 'x2' : 'c', 'x3' : 'c', 'x4' : 'c', 'x5' : 'c'}\n",
    "\n",
    "# run the search\n",
    "ic_algorithm = IC(RobustRegressionTest)\n",
    "graph = ic_algorithm.search(X, variable_types)"
   ]
  },
  {
   "cell_type": "code",
   "execution_count": 4,
   "metadata": {},
   "outputs": [
    {
     "data": {
      "text/plain": [
       "[('x1', 'x2', {'marked': False, 'arrows': []}),\n",
       " ('x1', 'x3', {'marked': False, 'arrows': []}),\n",
       " ('x2', 'x4', {'marked': False, 'arrows': ['x4']}),\n",
       " ('x3', 'x4', {'marked': False, 'arrows': ['x4']}),\n",
       " ('x4', 'x5', {'marked': True, 'arrows': ['x5']})]"
      ]
     },
     "execution_count": 4,
     "metadata": {},
     "output_type": "execute_result"
    }
   ],
   "source": [
    "graph.edges(data=True)"
   ]
  },
  {
   "cell_type": "code",
   "execution_count": 15,
   "metadata": {},
   "outputs": [],
   "source": [
    "SIZE = 2000\n",
    "x1 = np.random.normal(size=SIZE)\n",
    "x2 = x1 + np.random.normal(size=SIZE)\n",
    "x3 = x1 + np.random.normal(size=SIZE)\n",
    "x6 = np.random.normal(size=SIZE)\n",
    "x4 = x2 + x3 + x6 + np.random.normal(size=SIZE)\n",
    "x5 = x6 + np.random.normal(size=SIZE)\n",
    "\n",
    "# load the data into a dataframe:\n",
    "X = pd.DataFrame({'x1' : x1, 'x2' : x2, 'x3' : x3, 'x4' : x4, 'x5' : x5})\n",
    "\n",
    "# define the variable types: 'c' is 'continuous'.  The variables defined here\n",
    "# are the ones the search is performed over  -- NOT all the variables defined\n",
    "# in the data frame.\n",
    "variable_types = {'x1' : 'c', 'x2' : 'c', 'x3' : 'c', 'x4' : 'c', 'x5' : 'c'}\n",
    "\n",
    "# run the search\n",
    "ic_algorithm = IC(RobustRegressionTest)\n",
    "graph = ic_algorithm.search(X, variable_types)"
   ]
  },
  {
   "cell_type": "code",
   "execution_count": 16,
   "metadata": {},
   "outputs": [
    {
     "data": {
      "text/plain": [
       "[('x1', 'x2', {'marked': False, 'arrows': []}),\n",
       " ('x1', 'x3', {'marked': False, 'arrows': []}),\n",
       " ('x2', 'x4', {'marked': False, 'arrows': ['x4', 'x4']}),\n",
       " ('x3', 'x4', {'marked': False, 'arrows': ['x4', 'x4']}),\n",
       " ('x4', 'x5', {'marked': False, 'arrows': ['x4', 'x4']})]"
      ]
     },
     "execution_count": 16,
     "metadata": {},
     "output_type": "execute_result"
    }
   ],
   "source": [
    "graph.edges(data=True)"
   ]
  },
  {
   "cell_type": "code",
   "execution_count": null,
   "metadata": {},
   "outputs": [],
   "source": []
  }
 ],
 "metadata": {
  "kernelspec": {
   "display_name": "Python 3",
   "language": "python",
   "name": "python3"
  },
  "language_info": {
   "codemirror_mode": {
    "name": "ipython",
    "version": 3
   },
   "file_extension": ".py",
   "mimetype": "text/x-python",
   "name": "python",
   "nbconvert_exporter": "python",
   "pygments_lexer": "ipython3",
   "version": "3.6.5"
  }
 },
 "nbformat": 4,
 "nbformat_minor": 2
}
