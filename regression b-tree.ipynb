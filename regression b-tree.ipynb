{
 "cells": [
  {
   "cell_type": "code",
   "execution_count": 141,
   "metadata": {},
   "outputs": [
    {
     "data": {
      "text/plain": [
       "[2, 11, 14, 22, 30]"
      ]
     },
     "execution_count": 141,
     "metadata": {},
     "output_type": "execute_result"
    }
   ],
   "source": [
    "import random\n",
    "\n",
    "numbers_list = []\n",
    "last = 0\n",
    "for i in range(10_000_000):\n",
    "    last += random.randint(1, 10)\n",
    "    numbers_list += [last]\n",
    "\n",
    "numbers_list[0:5]"
   ]
  },
  {
   "cell_type": "code",
   "execution_count": 142,
   "metadata": {},
   "outputs": [
    {
     "data": {
      "text/plain": [
       "\"{'middle': 27496659, 'left': {'middle': 13749787, 'left': {'middle': 6871657, 'left': {'middle': 3436995, 'left': {'middle': 1719890, 'left': {'middle': 859066, 'left': {'middle': 430153, 'left': {'middle': 215304, 'left': {'middle': 108006, 'left': {'middle': 53983, 'left': {'middle': 26851, 'left': {'middle': 13459, 'left': {'middle': 6658, 'left': {'middle': 3325, 'left': {'middle': 1651, 'left...\""
      ]
     },
     "execution_count": 142,
     "metadata": {},
     "output_type": "execute_result"
    }
   ],
   "source": [
    "import math\n",
    "\n",
    "\n",
    "def btree_organize(numbers_list):\n",
    "    if len(numbers_list) < 10:\n",
    "        return numbers_list \n",
    "\n",
    "    middle = numbers_list[math.floor(len(numbers_list) / 2) - 1]\n",
    "    smaller = [x for x in numbers_list if x < middle]\n",
    "    bigger = [x for x in numbers_list if x > middle]\n",
    "    return { \"middle\": middle, \"left\": btree_organize(smaller), \"right\": btree_organize(bigger) }\n",
    "\n",
    "\n",
    "numbers_btree = btree_organize(numbers_list)\n",
    "str(numbers_btree)[0:400] + \"...\""
   ]
  },
  {
   "cell_type": "code",
   "execution_count": 145,
   "metadata": {},
   "outputs": [
    {
     "data": {
      "text/plain": [
       "{'steps': 25, 'found': 4242}"
      ]
     },
     "execution_count": 145,
     "metadata": {},
     "output_type": "execute_result"
    }
   ],
   "source": [
    "def btree_search(number, numbers_btree, steps=0):\n",
    "    if 'middle' in numbers_btree:\n",
    "        if number < numbers_btree['middle']:\n",
    "            return btree_search(number, numbers_btree['left'], steps + 1)\n",
    "        elif number > numbers_btree['middle']:\n",
    "            return btree_search(number, numbers_btree['right'], steps + 1)\n",
    "        else:\n",
    "            return { \"steps\": steps, \"found\": numbers_btree['middle'] }\n",
    "    else:\n",
    "        if number in numbers_btree:\n",
    "            steps += numbers_btree.index(number) + 1\n",
    "            return { \"steps\": steps, \"found\": number }\n",
    "        else:\n",
    "            return { \"steps\": steps, \"found\": None }\n",
    "        \n",
    "btree_search(4242, numbers_btree)"
   ]
  },
  {
   "cell_type": "code",
   "execution_count": 146,
   "metadata": {},
   "outputs": [
    {
     "name": "stdout",
     "output_type": "stream",
     "text": [
      "CPU times: user 33.6 ms, sys: 6.47 ms, total: 40.1 ms\n",
      "Wall time: 40.9 ms\n",
      "Avg number of btree steps 23.769\n",
      "\n",
      "\n",
      "CPU times: user 3min 17s, sys: 1.16 s, total: 3min 18s\n",
      "Wall time: 3min 26s\n",
      "Avg number of indexes 5019753.768\n"
     ]
    }
   ],
   "source": [
    "from statistics import mean\n",
    "\n",
    "sample = random.sample(numbers_list, 1000)\n",
    "\n",
    "%time steps = [btree_search(s, numbers_btree)['steps'] for s in sample]\n",
    "print(\"Avg number of btree steps\", mean(steps))\n",
    "print(\"\\n\")\n",
    "%time indexes = [numbers_list.index(s) for s in sample]\n",
    "print(\"Avg number of indexes\", mean(indexes))"
   ]
  },
  {
   "cell_type": "code",
   "execution_count": 147,
   "metadata": {},
   "outputs": [
    {
     "data": {
      "text/plain": [
       "0.9999999912347628"
      ]
     },
     "execution_count": 147,
     "metadata": {},
     "output_type": "execute_result"
    }
   ],
   "source": [
    "import numpy as np\n",
    "from sklearn.linear_model import LinearRegression\n",
    "\n",
    "X = np.array(numbers_list).reshape(-1, 1)\n",
    "y = np.array(range(0, len(numbers_list)))\n",
    "\n",
    "model = LinearRegression().fit(X, y)\n",
    "model.score(X, y)"
   ]
  },
  {
   "cell_type": "code",
   "execution_count": 150,
   "metadata": {},
   "outputs": [
    {
     "name": "stdout",
     "output_type": "stream",
     "text": [
      "Predicted index 6751099 Actual index 6751341\n"
     ]
    }
   ],
   "source": [
    "def predict_index(number, model):\n",
    "    return math.ceil(model.predict([[number]])[0])\n",
    "\n",
    "\n",
    "print(\"Predicted index\", predict_index(37123789, model), \"Actual index\", numbers_list.index(37123789))"
   ]
  },
  {
   "cell_type": "code",
   "execution_count": 152,
   "metadata": {},
   "outputs": [
    {
     "data": {
      "text/plain": [
       "{'steps': 484, 'found': 37123789}"
      ]
     },
     "execution_count": 152,
     "metadata": {},
     "output_type": "execute_result"
    }
   ],
   "source": [
    "def regression_search(number, numbers_list, model, steps=0):\n",
    "    maximum = len(numbers_list) - 1\n",
    "    predicted_index = min(predict_index(number, model), maximum)\n",
    "    steps += 1\n",
    "    if numbers_list[predicted_index] == number:\n",
    "        return { \"steps\": steps, \"found\": number }\n",
    "    \n",
    "    right = 1\n",
    "    left = 1\n",
    "    while True:\n",
    "        if numbers_list[predicted_index + right] == number:\n",
    "            return { \"steps\": steps + 1, \"found\": number }\n",
    "        elif numbers_list[predicted_index - left] == number:\n",
    "            return { \"steps\": steps + 1, \"found\": number }\n",
    "        else:\n",
    "            right += 1\n",
    "            left += 1\n",
    "            steps += 2\n",
    "    \n",
    "regression_search(37123789, numbers_list, model)"
   ]
  },
  {
   "cell_type": "code",
   "execution_count": 153,
   "metadata": {},
   "outputs": [
    {
     "name": "stdout",
     "output_type": "stream",
     "text": [
      "CPU times: user 31.2 ms, sys: 1.96 ms, total: 33.1 ms\n",
      "Wall time: 36.6 ms\n",
      "Avg number of btree steps 23.667\n",
      "\n",
      "\n",
      "CPU times: user 303 ms, sys: 10.1 ms, total: 313 ms\n",
      "Wall time: 309 ms\n",
      "Avg number of regression steps 427.863\n",
      "\n",
      "\n",
      "CPU times: user 3min 27s, sys: 2.18 s, total: 3min 29s\n",
      "Wall time: 4min 9s\n",
      "Avg number of indexes 5011172.64\n"
     ]
    }
   ],
   "source": [
    "sample = random.sample(numbers_list, 1000)\n",
    "\n",
    "%time steps = [btree_search(s, numbers_btree)['steps'] for s in sample]\n",
    "print(\"Avg number of btree steps\", mean(steps))\n",
    "print(\"\\n\")\n",
    "\n",
    "%time steps = [regression_search(s, numbers_list, model)['steps'] for s in sample]\n",
    "print(\"Avg number of regression steps\", mean(steps))\n",
    "print(\"\\n\")\n",
    "\n",
    "%time indexes = [numbers_list.index(s) for s in sample]\n",
    "print(\"Avg number of indexes\", mean(indexes))"
   ]
  },
  {
   "cell_type": "code",
   "execution_count": 184,
   "metadata": {},
   "outputs": [
    {
     "name": "stdout",
     "output_type": "stream",
     "text": [
      "Requirement already satisfied: pympler in /Users/rchaves/.pyenv/versions/3.6.6/lib/python3.6/site-packages (0.7)\n",
      "Requirement already satisfied: hurry.filesize in /Users/rchaves/.pyenv/versions/3.6.6/lib/python3.6/site-packages (0.9)\n",
      "Requirement already satisfied: setuptools in /Users/rchaves/.pyenv/versions/3.6.6/lib/python3.6/site-packages (from hurry.filesize) (39.0.1)\n"
     ]
    }
   ],
   "source": [
    "%%bash\n",
    "\n",
    "pip install pympler hurry.filesize"
   ]
  },
  {
   "cell_type": "code",
   "execution_count": 191,
   "metadata": {},
   "outputs": [
    {
     "name": "stdout",
     "output_type": "stream",
     "text": [
      "Size of list 382M\n",
      "Size of btree 754M\n",
      "Size of model 1K\n"
     ]
    }
   ],
   "source": [
    "from pympler import asizeof\n",
    "from hurry.filesize import size\n",
    "\n",
    "list_size = asizeof.asizeof(numbers_list)\n",
    "print(\"Size of list\", size(list_size))\n",
    "print(\"Size of btree\", size(asizeof.asizeof(numbers_btree)))\n",
    "print(\"Size of model\", size(asizeof.asizeof(model)))"
   ]
  },
  {
   "cell_type": "markdown",
   "metadata": {},
   "source": [
    "# Conclusion\n",
    "\n",
    "The regression model being used to find an item in the list is still not faster then the b-tree, although it can jump to a position very close to the desired index, it has to walk left or right a little bit until it finds the item\n",
    "\n",
    "On the other hand, the regression model is not too slow either, 300ms might be acceptable for 10 million items, and it's way lighter (<1K), although you do need the original list weight anyway to find the item (382M), you don't pay the price for the whole b-tree structure (754M)"
   ]
  },
  {
   "cell_type": "code",
   "execution_count": null,
   "metadata": {},
   "outputs": [],
   "source": []
  }
 ],
 "metadata": {
  "kernelspec": {
   "display_name": "Python 3",
   "language": "python",
   "name": "python3"
  },
  "language_info": {
   "codemirror_mode": {
    "name": "ipython",
    "version": 3
   },
   "file_extension": ".py",
   "mimetype": "text/x-python",
   "name": "python",
   "nbconvert_exporter": "python",
   "pygments_lexer": "ipython3",
   "version": "3.6.6"
  }
 },
 "nbformat": 4,
 "nbformat_minor": 2
}
