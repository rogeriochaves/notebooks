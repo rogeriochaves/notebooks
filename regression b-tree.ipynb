{
 "cells": [
  {
   "cell_type": "code",
   "execution_count": 140,
   "metadata": {},
   "outputs": [
    {
     "data": {
      "text/plain": [
       "[10, 20, 23, 24, 26]"
      ]
     },
     "execution_count": 140,
     "metadata": {},
     "output_type": "execute_result"
    }
   ],
   "source": [
    "import random\n",
    "\n",
    "numbers_list = []\n",
    "last = 0\n",
    "for i in range(10_000):\n",
    "    last += random.randint(1, 10)\n",
    "    numbers_list += [last]\n",
    "\n",
    "numbers_list[0:5]"
   ]
  },
  {
   "cell_type": "code",
   "execution_count": 74,
   "metadata": {},
   "outputs": [
    {
     "data": {
      "text/plain": [
       "\"{'middle': 27955, 'left': {'middle': 14041, 'left': {'middle': 7083, 'left': {'middle': 3539, 'left': {'middle': 1727, 'left': {'middle': 833, 'left': {'middle': 419, 'left': {'middle': 194, 'left': {'middle': 85, 'left': {'middle': 40, 'left': [7, 10, 11, 16, 26, 30, 34], 'right': [42, 50, 51, 61, 67, 74, 76, 81, 83]}, 'right': {'middle': 149, 'left': [94, 96, 104, 112, 119, 126, 135, 139], 'righ...\""
      ]
     },
     "execution_count": 74,
     "metadata": {},
     "output_type": "execute_result"
    }
   ],
   "source": [
    "import math\n",
    "\n",
    "\n",
    "def btree_organize(numbers_list):\n",
    "    if len(numbers_list) < 10:\n",
    "        return numbers_list \n",
    "\n",
    "    middle = numbers_list[math.floor(len(numbers_list) / 2) - 1]\n",
    "    smaller = [x for x in numbers_list if x < middle]\n",
    "    bigger = [x for x in numbers_list if x > middle]\n",
    "    return { \"middle\": middle, \"left\": btree_organize(smaller), \"right\": btree_organize(bigger) }\n",
    "\n",
    "\n",
    "numbers_btree = btree_organize(numbers_list)\n",
    "str(numbers_btree)[0:400] + \"...\""
   ]
  },
  {
   "cell_type": "code",
   "execution_count": 77,
   "metadata": {},
   "outputs": [
    {
     "data": {
      "text/plain": [
       "{'steps': 11, 'found': 42}"
      ]
     },
     "execution_count": 77,
     "metadata": {},
     "output_type": "execute_result"
    }
   ],
   "source": [
    "def btree_search(number, numbers_btree, steps=0):\n",
    "    if 'middle' in numbers_btree:\n",
    "        if number < numbers_btree['middle']:\n",
    "            return btree_search(number, numbers_btree['left'], steps + 1)\n",
    "        elif number > numbers_btree['middle']:\n",
    "            return btree_search(number, numbers_btree['right'], steps + 1)\n",
    "        else:\n",
    "            return { \"steps\": steps, \"found\": numbers_btree['middle'] }\n",
    "    else:\n",
    "        if number in numbers_btree:\n",
    "            steps += numbers_btree.index(number) + 1\n",
    "            return { \"steps\": steps, \"found\": number }\n",
    "        else:\n",
    "            return { \"steps\": steps, \"found\": None }\n",
    "        \n",
    "btree_search(42, numbers_btree)"
   ]
  },
  {
   "cell_type": "code",
   "execution_count": 97,
   "metadata": {},
   "outputs": [
    {
     "name": "stdout",
     "output_type": "stream",
     "text": [
      "CPU times: user 12.4 ms, sys: 1.29 ms, total: 13.7 ms\n",
      "Wall time: 12.5 ms\n",
      "Avg number of btree steps 13.862\n",
      "\n",
      "\n",
      "CPU times: user 220 ms, sys: 4.92 ms, total: 225 ms\n",
      "Wall time: 235 ms\n",
      "Avg number of indexes 5080.308\n"
     ]
    }
   ],
   "source": [
    "from statistics import mean\n",
    "\n",
    "sample = random.sample(numbers_list, 1000)\n",
    "\n",
    "%time steps = [btree_search(s, numbers_btree)['steps'] for s in sample]\n",
    "print(\"Avg number of btree steps\", mean(steps))\n",
    "print(\"\\n\")\n",
    "%time indexes = [numbers_list.index(s) for s in sample]\n",
    "print(\"Avg number of indexes\", mean(indexes))"
   ]
  },
  {
   "cell_type": "code",
   "execution_count": 112,
   "metadata": {},
   "outputs": [
    {
     "data": {
      "text/plain": [
       "0.999955718673992"
      ]
     },
     "execution_count": 112,
     "metadata": {},
     "output_type": "execute_result"
    }
   ],
   "source": [
    "import numpy as np\n",
    "from sklearn.linear_model import LinearRegression\n",
    "\n",
    "X = np.array(numbers_list).reshape(-1, 1)\n",
    "y = np.array(range(0, len(numbers_list)))\n",
    "\n",
    "model = LinearRegression().fit(X, y)\n",
    "model.score(X, y)"
   ]
  },
  {
   "cell_type": "code",
   "execution_count": 129,
   "metadata": {},
   "outputs": [
    {
     "name": "stdout",
     "output_type": "stream",
     "text": [
      "Predictect index 9957 Actual index 9973\n"
     ]
    }
   ],
   "source": [
    "def predict_index(number, model):\n",
    "    return math.ceil(model.predict([[number]])[0])\n",
    "\n",
    "\n",
    "print(\"Predictect index\", predict_index(55382, model), \"Actual index\", numbers_list.index(55382))"
   ]
  },
  {
   "cell_type": "code",
   "execution_count": 136,
   "metadata": {},
   "outputs": [
    {
     "data": {
      "text/plain": [
       "{'steps': 32, 'found': 55382}"
      ]
     },
     "execution_count": 136,
     "metadata": {},
     "output_type": "execute_result"
    }
   ],
   "source": [
    "def regression_search(number, numbers_list, model, steps=0):\n",
    "    maximum = len(numbers_list) - 1\n",
    "    predicted_index = min(predict_index(number, model), maximum)\n",
    "    steps += 1\n",
    "    if numbers_list[predicted_index] == number:\n",
    "        return { \"steps\": steps, \"found\": number }\n",
    "    \n",
    "    right = 1\n",
    "    left = 1\n",
    "    while True:\n",
    "        if numbers_list[predicted_index + right] == number:\n",
    "            return { \"steps\": steps + 1, \"found\": number }\n",
    "        elif numbers_list[predicted_index - left] == number:\n",
    "            return { \"steps\": steps + 1, \"found\": number }\n",
    "        else:\n",
    "            right += 1\n",
    "            left += 1\n",
    "            steps += 2\n",
    "    \n",
    "regression_search(55382, numbers_list, model)"
   ]
  },
  {
   "cell_type": "code",
   "execution_count": 138,
   "metadata": {},
   "outputs": [
    {
     "name": "stdout",
     "output_type": "stream",
     "text": [
      "CPU times: user 16.2 ms, sys: 1.98 ms, total: 18.1 ms\n",
      "Wall time: 19.1 ms\n",
      "Avg number of btree steps 13.786\n",
      "\n",
      "\n",
      "CPU times: user 168 ms, sys: 7.17 ms, total: 175 ms\n",
      "Wall time: 228 ms\n",
      "Avg number of regression steps 30.762\n",
      "\n",
      "\n",
      "CPU times: user 208 ms, sys: 4.41 ms, total: 212 ms\n",
      "Wall time: 246 ms\n",
      "Avg number of indexes 4896.157\n"
     ]
    }
   ],
   "source": [
    "sample = random.sample(numbers_list, 1000)\n",
    "\n",
    "%time steps = [btree_search(s, numbers_btree)['steps'] for s in sample]\n",
    "print(\"Avg number of btree steps\", mean(steps))\n",
    "print(\"\\n\")\n",
    "\n",
    "%time steps = [regression_search(s, numbers_list, model)['steps'] for s in sample]\n",
    "print(\"Avg number of regression steps\", mean(steps))\n",
    "print(\"\\n\")\n",
    "\n",
    "%time indexes = [numbers_list.index(s) for s in sample]\n",
    "print(\"Avg number of indexes\", mean(indexes))"
   ]
  },
  {
   "cell_type": "code",
   "execution_count": null,
   "metadata": {},
   "outputs": [],
   "source": []
  }
 ],
 "metadata": {
  "kernelspec": {
   "display_name": "Python 3",
   "language": "python",
   "name": "python3"
  },
  "language_info": {
   "codemirror_mode": {
    "name": "ipython",
    "version": 3
   },
   "file_extension": ".py",
   "mimetype": "text/x-python",
   "name": "python",
   "nbconvert_exporter": "python",
   "pygments_lexer": "ipython3",
   "version": "3.6.6"
  }
 },
 "nbformat": 4,
 "nbformat_minor": 2
}
