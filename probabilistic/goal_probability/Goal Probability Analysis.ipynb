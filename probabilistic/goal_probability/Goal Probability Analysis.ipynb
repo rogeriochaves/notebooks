{
 "cells": [
  {
   "cell_type": "markdown",
   "metadata": {},
   "source": [
    "I've been reading the book [Doing Bayesian Data Analysis](https://www.amazon.com/Doing-Bayesian-Data-Analysis-Tutorial/dp/0124058884), and there is an example there with baseball, which I'd like to try for football.\n",
    "\n",
    "Basically, we want to estimate what's the probability of a player scoring in a match, and which part of that probability is influenced by their position on the field vs other factors. We'll focus on Neymar but I'm actually using the data of all players from UEFA Champions League.\n",
    "\n",
    "First let's load our data. I collected data from UEFA Champions League for 2018 and 2019-2020, each row is a participation of a player in a match, with which position they were on this match, and how much goals they scored. Players that were in substitution bench during the match but never entered the field are not included"
   ]
  },
  {
   "cell_type": "code",
   "execution_count": 472,
   "metadata": {},
   "outputs": [
    {
     "data": {
      "text/html": [
       "<div>\n",
       "<style scoped>\n",
       "    .dataframe tbody tr th:only-of-type {\n",
       "        vertical-align: middle;\n",
       "    }\n",
       "\n",
       "    .dataframe tbody tr th {\n",
       "        vertical-align: top;\n",
       "    }\n",
       "\n",
       "    .dataframe thead th {\n",
       "        text-align: right;\n",
       "    }\n",
       "</style>\n",
       "<table border=\"1\" class=\"dataframe\">\n",
       "  <thead>\n",
       "    <tr style=\"text-align: right;\">\n",
       "      <th></th>\n",
       "      <th>match_id</th>\n",
       "      <th>match_date</th>\n",
       "      <th>player</th>\n",
       "      <th>player_id</th>\n",
       "      <th>team</th>\n",
       "      <th>team_id</th>\n",
       "      <th>position</th>\n",
       "      <th>goals</th>\n",
       "    </tr>\n",
       "  </thead>\n",
       "  <tbody>\n",
       "    <tr>\n",
       "      <th>0</th>\n",
       "      <td>158963</td>\n",
       "      <td>2019-06-25 13:00:00+00:00</td>\n",
       "      <td>Mattia Migani</td>\n",
       "      <td>80722.0</td>\n",
       "      <td>Tre Penne</td>\n",
       "      <td>700</td>\n",
       "      <td>Goalkeeper</td>\n",
       "      <td>0</td>\n",
       "    </tr>\n",
       "    <tr>\n",
       "      <th>1</th>\n",
       "      <td>158963</td>\n",
       "      <td>2019-06-25 13:00:00+00:00</td>\n",
       "      <td>Davide Cesarini</td>\n",
       "      <td>56095.0</td>\n",
       "      <td>Tre Penne</td>\n",
       "      <td>700</td>\n",
       "      <td>Defender</td>\n",
       "      <td>0</td>\n",
       "    </tr>\n",
       "    <tr>\n",
       "      <th>4</th>\n",
       "      <td>158963</td>\n",
       "      <td>2019-06-25 13:00:00+00:00</td>\n",
       "      <td>Mirko Palazzi</td>\n",
       "      <td>56099.0</td>\n",
       "      <td>Tre Penne</td>\n",
       "      <td>700</td>\n",
       "      <td>Defender</td>\n",
       "      <td>0</td>\n",
       "    </tr>\n",
       "    <tr>\n",
       "      <th>5</th>\n",
       "      <td>158963</td>\n",
       "      <td>2019-06-25 13:00:00+00:00</td>\n",
       "      <td>Nicola Gai</td>\n",
       "      <td>80723.0</td>\n",
       "      <td>Tre Penne</td>\n",
       "      <td>700</td>\n",
       "      <td>Midfield</td>\n",
       "      <td>0</td>\n",
       "    </tr>\n",
       "    <tr>\n",
       "      <th>7</th>\n",
       "      <td>158963</td>\n",
       "      <td>2019-06-25 13:00:00+00:00</td>\n",
       "      <td>Nicola Chiaruzzi</td>\n",
       "      <td>80724.0</td>\n",
       "      <td>Tre Penne</td>\n",
       "      <td>700</td>\n",
       "      <td>Midfield</td>\n",
       "      <td>0</td>\n",
       "    </tr>\n",
       "  </tbody>\n",
       "</table>\n",
       "</div>"
      ],
      "text/plain": [
       "   match_id                match_date            player  player_id       team  \\\n",
       "0    158963 2019-06-25 13:00:00+00:00     Mattia Migani    80722.0  Tre Penne   \n",
       "1    158963 2019-06-25 13:00:00+00:00   Davide Cesarini    56095.0  Tre Penne   \n",
       "4    158963 2019-06-25 13:00:00+00:00     Mirko Palazzi    56099.0  Tre Penne   \n",
       "5    158963 2019-06-25 13:00:00+00:00        Nicola Gai    80723.0  Tre Penne   \n",
       "7    158963 2019-06-25 13:00:00+00:00  Nicola Chiaruzzi    80724.0  Tre Penne   \n",
       "\n",
       "   team_id    position  goals  \n",
       "0      700  Goalkeeper      0  \n",
       "1      700    Defender      0  \n",
       "4      700    Defender      0  \n",
       "5      700    Midfield      0  \n",
       "7      700    Midfield      0  "
      ]
     },
     "execution_count": 472,
     "metadata": {},
     "output_type": "execute_result"
    }
   ],
   "source": [
    "import pandas as pd\n",
    "import numpy as np\n",
    "\n",
    "df = pd.read_csv(\"uefa_player_matches.csv\", parse_dates=[\"match_date\"])\n",
    "df = df.dropna()\n",
    "df = df[df['position'].isin([\"G\", \"D\", \"M\", \"F\"])] # excluded \"SUB\" and \"-\" positions\n",
    "position_map = {'G': 'Goalkeeper', 'D': 'Defender', 'M': 'Midfield', 'F': 'Forward'}\n",
    "df['position'] = [ position_map[x] for x in df['position'] ]\n",
    "df.head()"
   ]
  },
  {
   "cell_type": "markdown",
   "metadata": {},
   "source": [
    "Let's take a look on matches that Neymar participated"
   ]
  },
  {
   "cell_type": "code",
   "execution_count": 473,
   "metadata": {},
   "outputs": [
    {
     "data": {
      "text/html": [
       "<div>\n",
       "<style scoped>\n",
       "    .dataframe tbody tr th:only-of-type {\n",
       "        vertical-align: middle;\n",
       "    }\n",
       "\n",
       "    .dataframe tbody tr th {\n",
       "        vertical-align: top;\n",
       "    }\n",
       "\n",
       "    .dataframe thead th {\n",
       "        text-align: right;\n",
       "    }\n",
       "</style>\n",
       "<table border=\"1\" class=\"dataframe\">\n",
       "  <thead>\n",
       "    <tr style=\"text-align: right;\">\n",
       "      <th></th>\n",
       "      <th>match_id</th>\n",
       "      <th>match_date</th>\n",
       "      <th>player</th>\n",
       "      <th>player_id</th>\n",
       "      <th>team</th>\n",
       "      <th>team_id</th>\n",
       "      <th>position</th>\n",
       "      <th>goals</th>\n",
       "    </tr>\n",
       "  </thead>\n",
       "  <tbody>\n",
       "    <tr>\n",
       "      <th>4360</th>\n",
       "      <td>240579</td>\n",
       "      <td>2019-11-26 20:00:00+00:00</td>\n",
       "      <td>Neymar</td>\n",
       "      <td>276.0</td>\n",
       "      <td>Paris Saint Germain</td>\n",
       "      <td>85</td>\n",
       "      <td>Forward</td>\n",
       "      <td>0</td>\n",
       "    </tr>\n",
       "    <tr>\n",
       "      <th>5012</th>\n",
       "      <td>240603</td>\n",
       "      <td>2019-12-11 20:00:00+00:00</td>\n",
       "      <td>Neymar</td>\n",
       "      <td>276.0</td>\n",
       "      <td>Paris Saint Germain</td>\n",
       "      <td>85</td>\n",
       "      <td>Midfield</td>\n",
       "      <td>1</td>\n",
       "    </tr>\n",
       "    <tr>\n",
       "      <th>5192</th>\n",
       "      <td>292852</td>\n",
       "      <td>2020-02-18 20:00:00+00:00</td>\n",
       "      <td>Neymar</td>\n",
       "      <td>276.0</td>\n",
       "      <td>Paris Saint Germain</td>\n",
       "      <td>85</td>\n",
       "      <td>Forward</td>\n",
       "      <td>1</td>\n",
       "    </tr>\n",
       "    <tr>\n",
       "      <th>5451</th>\n",
       "      <td>292853</td>\n",
       "      <td>2020-03-11 20:00:00+00:00</td>\n",
       "      <td>Neymar</td>\n",
       "      <td>276.0</td>\n",
       "      <td>Paris Saint Germain</td>\n",
       "      <td>85</td>\n",
       "      <td>Midfield</td>\n",
       "      <td>1</td>\n",
       "    </tr>\n",
       "    <tr>\n",
       "      <th>5610</th>\n",
       "      <td>570966</td>\n",
       "      <td>2020-08-12 19:00:00+00:00</td>\n",
       "      <td>Neymar</td>\n",
       "      <td>276.0</td>\n",
       "      <td>Paris Saint Germain</td>\n",
       "      <td>85</td>\n",
       "      <td>Forward</td>\n",
       "      <td>0</td>\n",
       "    </tr>\n",
       "    <tr>\n",
       "      <th>5698</th>\n",
       "      <td>589000</td>\n",
       "      <td>2020-08-18 19:00:00+00:00</td>\n",
       "      <td>Neymar</td>\n",
       "      <td>276.0</td>\n",
       "      <td>Paris Saint Germain</td>\n",
       "      <td>85</td>\n",
       "      <td>Forward</td>\n",
       "      <td>0</td>\n",
       "    </tr>\n",
       "    <tr>\n",
       "      <th>5731</th>\n",
       "      <td>591151</td>\n",
       "      <td>2020-08-23 19:00:00+00:00</td>\n",
       "      <td>Neymar</td>\n",
       "      <td>276.0</td>\n",
       "      <td>Paris Saint Germain</td>\n",
       "      <td>85</td>\n",
       "      <td>Forward</td>\n",
       "      <td>0</td>\n",
       "    </tr>\n",
       "    <tr>\n",
       "      <th>8419</th>\n",
       "      <td>39151</td>\n",
       "      <td>2018-09-18 19:00:00+00:00</td>\n",
       "      <td>Neymar</td>\n",
       "      <td>276.0</td>\n",
       "      <td>Paris Saint Germain</td>\n",
       "      <td>85</td>\n",
       "      <td>Forward</td>\n",
       "      <td>0</td>\n",
       "    </tr>\n",
       "    <tr>\n",
       "      <th>8930</th>\n",
       "      <td>39170</td>\n",
       "      <td>2018-10-03 16:55:00+00:00</td>\n",
       "      <td>Neymar</td>\n",
       "      <td>276.0</td>\n",
       "      <td>Paris Saint Germain</td>\n",
       "      <td>85</td>\n",
       "      <td>Forward</td>\n",
       "      <td>3</td>\n",
       "    </tr>\n",
       "    <tr>\n",
       "      <th>9504</th>\n",
       "      <td>39191</td>\n",
       "      <td>2018-10-24 19:00:00+00:00</td>\n",
       "      <td>Neymar</td>\n",
       "      <td>276.0</td>\n",
       "      <td>Paris Saint Germain</td>\n",
       "      <td>85</td>\n",
       "      <td>Forward</td>\n",
       "      <td>0</td>\n",
       "    </tr>\n",
       "    <tr>\n",
       "      <th>9740</th>\n",
       "      <td>39199</td>\n",
       "      <td>2018-11-06 20:00:00+00:00</td>\n",
       "      <td>Neymar</td>\n",
       "      <td>276.0</td>\n",
       "      <td>Paris Saint Germain</td>\n",
       "      <td>85</td>\n",
       "      <td>Forward</td>\n",
       "      <td>0</td>\n",
       "    </tr>\n",
       "    <tr>\n",
       "      <th>10421</th>\n",
       "      <td>39224</td>\n",
       "      <td>2018-11-28 20:00:00+00:00</td>\n",
       "      <td>Neymar</td>\n",
       "      <td>276.0</td>\n",
       "      <td>Paris Saint Germain</td>\n",
       "      <td>85</td>\n",
       "      <td>Forward</td>\n",
       "      <td>1</td>\n",
       "    </tr>\n",
       "    <tr>\n",
       "      <th>10657</th>\n",
       "      <td>39232</td>\n",
       "      <td>2018-12-11 20:00:00+00:00</td>\n",
       "      <td>Neymar</td>\n",
       "      <td>276.0</td>\n",
       "      <td>Paris Saint Germain</td>\n",
       "      <td>85</td>\n",
       "      <td>Forward</td>\n",
       "      <td>1</td>\n",
       "    </tr>\n",
       "  </tbody>\n",
       "</table>\n",
       "</div>"
      ],
      "text/plain": [
       "       match_id                match_date  player  player_id  \\\n",
       "4360     240579 2019-11-26 20:00:00+00:00  Neymar      276.0   \n",
       "5012     240603 2019-12-11 20:00:00+00:00  Neymar      276.0   \n",
       "5192     292852 2020-02-18 20:00:00+00:00  Neymar      276.0   \n",
       "5451     292853 2020-03-11 20:00:00+00:00  Neymar      276.0   \n",
       "5610     570966 2020-08-12 19:00:00+00:00  Neymar      276.0   \n",
       "5698     589000 2020-08-18 19:00:00+00:00  Neymar      276.0   \n",
       "5731     591151 2020-08-23 19:00:00+00:00  Neymar      276.0   \n",
       "8419      39151 2018-09-18 19:00:00+00:00  Neymar      276.0   \n",
       "8930      39170 2018-10-03 16:55:00+00:00  Neymar      276.0   \n",
       "9504      39191 2018-10-24 19:00:00+00:00  Neymar      276.0   \n",
       "9740      39199 2018-11-06 20:00:00+00:00  Neymar      276.0   \n",
       "10421     39224 2018-11-28 20:00:00+00:00  Neymar      276.0   \n",
       "10657     39232 2018-12-11 20:00:00+00:00  Neymar      276.0   \n",
       "\n",
       "                      team  team_id  position  goals  \n",
       "4360   Paris Saint Germain       85   Forward      0  \n",
       "5012   Paris Saint Germain       85  Midfield      1  \n",
       "5192   Paris Saint Germain       85   Forward      1  \n",
       "5451   Paris Saint Germain       85  Midfield      1  \n",
       "5610   Paris Saint Germain       85   Forward      0  \n",
       "5698   Paris Saint Germain       85   Forward      0  \n",
       "5731   Paris Saint Germain       85   Forward      0  \n",
       "8419   Paris Saint Germain       85   Forward      0  \n",
       "8930   Paris Saint Germain       85   Forward      3  \n",
       "9504   Paris Saint Germain       85   Forward      0  \n",
       "9740   Paris Saint Germain       85   Forward      0  \n",
       "10421  Paris Saint Germain       85   Forward      1  \n",
       "10657  Paris Saint Germain       85   Forward      1  "
      ]
     },
     "execution_count": 473,
     "metadata": {},
     "output_type": "execute_result"
    }
   ],
   "source": [
    "df[df['player'] == 'Neymar']"
   ]
  },
  {
   "cell_type": "markdown",
   "metadata": {},
   "source": [
    "Just to help us understand our data a bit, what's the distribution of goals per match?"
   ]
  },
  {
   "cell_type": "code",
   "execution_count": 478,
   "metadata": {
    "scrolled": true
   },
   "outputs": [
    {
     "data": {
      "image/png": "[encoded data removed]",
      "text/plain": [
       "<Figure size 432x288 with 1 Axes>"
      ]
     },
     "metadata": {
      "needs_background": "light"
     },
     "output_type": "display_data"
    }
   ],
   "source": [
    "df['goals'].hist();"
   ]
  },
  {
   "cell_type": "markdown",
   "metadata": {},
   "source": [
    "Woah a Poisson distribution as expected, I love those. Okay and which positions scores more?"
   ]
  },
  {
   "cell_type": "code",
   "execution_count": 479,
   "metadata": {},
   "outputs": [
    {
     "data": {
      "text/html": [
       "<div>\n",
       "<style scoped>\n",
       "    .dataframe tbody tr th:only-of-type {\n",
       "        vertical-align: middle;\n",
       "    }\n",
       "\n",
       "    .dataframe tbody tr th {\n",
       "        vertical-align: top;\n",
       "    }\n",
       "\n",
       "    .dataframe thead th {\n",
       "        text-align: right;\n",
       "    }\n",
       "</style>\n",
       "<table border=\"1\" class=\"dataframe\">\n",
       "  <thead>\n",
       "    <tr style=\"text-align: right;\">\n",
       "      <th></th>\n",
       "      <th>goals</th>\n",
       "    </tr>\n",
       "    <tr>\n",
       "      <th>position</th>\n",
       "      <th></th>\n",
       "    </tr>\n",
       "  </thead>\n",
       "  <tbody>\n",
       "    <tr>\n",
       "      <th>Defender</th>\n",
       "      <td>135</td>\n",
       "    </tr>\n",
       "    <tr>\n",
       "      <th>Forward</th>\n",
       "      <td>587</td>\n",
       "    </tr>\n",
       "    <tr>\n",
       "      <th>Goalkeeper</th>\n",
       "      <td>3</td>\n",
       "    </tr>\n",
       "    <tr>\n",
       "      <th>Midfield</th>\n",
       "      <td>449</td>\n",
       "    </tr>\n",
       "  </tbody>\n",
       "</table>\n",
       "</div>"
      ],
      "text/plain": [
       "            goals\n",
       "position         \n",
       "Defender      135\n",
       "Forward       587\n",
       "Goalkeeper      3\n",
       "Midfield      449"
      ]
     },
     "execution_count": 479,
     "metadata": {},
     "output_type": "execute_result"
    }
   ],
   "source": [
    "df[['position', 'goals']].groupby('position').sum()"
   ]
  },
  {
   "cell_type": "markdown",
   "metadata": {},
   "source": [
    "Alright zero surprises so far. Let's move on and build a Logistic Regression model, which will give us a probability of a goal given a player and their position."
   ]
  },
  {
   "cell_type": "code",
   "execution_count": 480,
   "metadata": {},
   "outputs": [
    {
     "data": {
      "text/plain": [
       "0.9107711354793067"
      ]
     },
     "execution_count": 480,
     "metadata": {},
     "output_type": "execute_result"
    }
   ],
   "source": [
    "from sklearn.linear_model import LogisticRegression\n",
    "from sklearn.preprocessing import OneHotEncoder\n",
    "\n",
    "X = df[['player_id', 'position']]\n",
    "one_hot_encoder = OneHotEncoder()\n",
    "one_hot_encoder.fit(X)\n",
    "X = one_hot_encoder.transform(X)\n",
    "\n",
    "y = [ 1 if y > 0 else 0 for y in df['goals'] ]\n",
    "\n",
    "model = LogisticRegression()\n",
    "model.fit(X, y)\n",
    "model.score(X, y)"
   ]
  },
  {
   "cell_type": "markdown",
   "metadata": {},
   "source": [
    "Logistic regression can fit our data with 91% accuracy, seems pretty good. Now let's take a look on what's the probability of Neymar scoring a goal in some future match:\n",
    "\n",
    "$$\n",
    "P(goal | neymar,forward )\n",
    "$$"
   ]
  },
  {
   "cell_type": "code",
   "execution_count": 530,
   "metadata": {},
   "outputs": [
    {
     "data": {
      "text/plain": [
       "0.3835193670312905"
      ]
     },
     "execution_count": 530,
     "metadata": {},
     "output_type": "execute_result"
    }
   ],
   "source": [
    "neymar_id = 276\n",
    "X_example = one_hot_encoder.transform([[ neymar_id, \"Forward\" ]])\n",
    "model.predict_proba(X_example)[0][1]"
   ]
  },
  {
   "cell_type": "markdown",
   "metadata": {},
   "source": [
    "38%, not bad, what if Neymar were a Midfield player instead of Forward?\n",
    "\n",
    "$$\n",
    "P(goal | neymar,midfield )\n",
    "$$"
   ]
  },
  {
   "cell_type": "code",
   "execution_count": 482,
   "metadata": {},
   "outputs": [
    {
     "data": {
      "text/plain": [
       "0.2424111808266389"
      ]
     },
     "execution_count": 482,
     "metadata": {},
     "output_type": "execute_result"
    }
   ],
   "source": [
    "X_example = one_hot_encoder.transform([[ neymar_id, \"Midfield\" ]])\n",
    "model.predict_proba(X_example)[0][1]"
   ]
  },
  {
   "cell_type": "markdown",
   "metadata": {},
   "source": [
    "24%, is it good? Is it above average? I think so, but let's check what's the average of player in this positions scoring at all. For that we will take the average of probabilities of all players in that position\n",
    "\n",
    "$$\n",
    "P(goal|midfield) = \\frac{\\sum_{i = 1}^{\\#players}{P(goal|players_i,midfield)}}{\\#players}\n",
    "$$"
   ]
  },
  {
   "cell_type": "code",
   "execution_count": 275,
   "metadata": {},
   "outputs": [
    {
     "name": "stdout",
     "output_type": "stream",
     "text": [
      "Forward position mean 0.165252941308293\n"
     ]
    },
    {
     "data": {
      "image/png": "[encoded data removed]",
      "text/plain": [
       "<Figure size 432x288 with 1 Axes>"
      ]
     },
     "metadata": {
      "needs_background": "light"
     },
     "output_type": "display_data"
    },
    {
     "name": "stdout",
     "output_type": "stream",
     "text": [
      "Midfield position mean 0.08585727912713484\n"
     ]
    },
    {
     "data": {
      "image/png": "[encoded data removed]",
      "text/plain": [
       "<Figure size 432x288 with 1 Axes>"
      ]
     },
     "metadata": {
      "needs_background": "light"
     },
     "output_type": "display_data"
    }
   ],
   "source": [
    "def prob_for_position(position):\n",
    "    X_example = []\n",
    "    for player_id in df[df[\"position\"] == position]['player_id'].unique():\n",
    "        X_example.append([ player_id, position ])\n",
    "    X_example = one_hot_encoder.transform(X_example)\n",
    "    ys_pred = [ y[1] for y in model.predict_proba(X_example) ]\n",
    "    return ys_pred\n",
    "\n",
    "forward_position_probs = prob_for_position(\"Forward\")\n",
    "print(\"Forward position mean\", np.mean(forward_position_probs))\n",
    "plt.hist(forward_position_probs, bins=50)\n",
    "plt.show()\n",
    "\n",
    "midfield_position_probs = prob_for_position(\"Midfield\")\n",
    "print(\"Midfield position mean\", np.mean(midfield_position_probs))\n",
    "plt.hist(midfield_position_probs, bins=50);"
   ]
  },
  {
   "cell_type": "markdown",
   "metadata": {},
   "source": [
    "It's interesting to notice that the histograms above remember somewhat a beta distribution, closer to the left side, never smaller than zero, this will be important for us later\n",
    "\n",
    "But answering our question, yes, Neymar is way above average, as an average forward would score with 17% chance (rouding up). It seems that being Neymar puts a hell lot of weight in the probability to score in a match. \n",
    "\n",
    "Remember: this doesn't really mean that Neymar the person alone is way better than everybody else, because many other variables such as \"Playing in PSG with good team members\" are agregated in \"being Neymar\", as it's not really possible for us to deconfound this variable right now. On the other hand the position variable (forward, midfield) is pretty  deconfounded as we measure accross all players\n",
    "\n",
    "So what would be the probability of Neymar scoring, regardless of position?\n",
    "\n",
    "$$\n",
    "P(goal|neymar) = \\frac{\\sum_{i = 1}^{\\#positions}{P(goal|neymar,position_i)}}{\\#positions}\n",
    "$$"
   ]
  },
  {
   "cell_type": "code",
   "execution_count": 266,
   "metadata": {},
   "outputs": [
    {
     "data": {
      "text/plain": [
       "0.18960539993655143"
      ]
     },
     "execution_count": 266,
     "metadata": {},
     "output_type": "execute_result"
    }
   ],
   "source": [
    "def prob_for_player_id(player_id):\n",
    "    X_example = []\n",
    "    for position in df['position'].unique():\n",
    "        X_example.append([ player_id, position ])\n",
    "    X_example = one_hot_encoder.transform(X_example)\n",
    "    ys_pred = [ y[1] for y in model.predict_proba(X_example) ]\n",
    "    return np.mean(ys_pred)\n",
    "\n",
    "prob_for_player_id(neymar_id)"
   ]
  },
  {
   "cell_type": "markdown",
   "metadata": {},
   "source": [
    "What about Messi?\n",
    "\n",
    "$$\n",
    "P(goal | messi )\n",
    "$$"
   ]
  },
  {
   "cell_type": "code",
   "execution_count": 268,
   "metadata": {},
   "outputs": [
    {
     "data": {
      "text/plain": [
       "0.21051765637224326"
      ]
     },
     "execution_count": 268,
     "metadata": {},
     "output_type": "execute_result"
    }
   ],
   "source": [
    "messi_id = 154\n",
    "prob_for_player_id(messi_id)"
   ]
  },
  {
   "cell_type": "markdown",
   "metadata": {},
   "source": [
    "Seems like Messi has a bit higher probability of scoring than Neymar, 21% vs 19%\n",
    "\n",
    "Those are nice point estimations, but you shouldn't take them as absolute truth, because our data is just a small sample from all matches by those two players (only 2 UEFA championships), as our input is incomplete, how much can we really trust the data we collected?\n",
    "\n",
    "One alternative approach that helps us with that is building a Bayesian model, where we can estimate distributions over our parameters, as you will see next"
   ]
  },
  {
   "cell_type": "markdown",
   "metadata": {},
   "source": [
    "# Measuring uncertainty with Bayesian Analysis"
   ]
  },
  {
   "cell_type": "markdown",
   "metadata": {},
   "source": [
    "Check the other notebook"
   ]
  }
 ],
 "metadata": {
  "kernelspec": {
   "display_name": "Python 3",
   "language": "python",
   "name": "python3"
  },
  "language_info": {
   "codemirror_mode": {
    "name": "ipython",
    "version": 3
   },
   "file_extension": ".py",
   "mimetype": "text/x-python",
   "name": "python",
   "nbconvert_exporter": "python",
   "pygments_lexer": "ipython3",
   "version": "3.7.8"
  }
 },
 "nbformat": 4,
 "nbformat_minor": 4
}
