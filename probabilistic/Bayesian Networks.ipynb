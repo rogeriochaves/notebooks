{
 "cells": [
  {
   "cell_type": "code",
   "execution_count": 1,
   "metadata": {},
   "outputs": [],
   "source": [
    "from pybbn.graph.dag import Bbn\n",
    "from pybbn.graph.edge import Edge, EdgeType\n",
    "from pybbn.graph.jointree import EvidenceBuilder\n",
    "from pybbn.graph.node import BbnNode\n",
    "from pybbn.graph.variable import Variable\n",
    "from pybbn.pptc.inferencecontroller import InferenceController"
   ]
  },
  {
   "cell_type": "code",
   "execution_count": 299,
   "metadata": {},
   "outputs": [],
   "source": [
    "click_button = BbnNode(Variable(0, 'click_button', ['click', 'ignore']), [0.3, 0.7])\n",
    "has_cards = BbnNode(Variable(1, 'has_cards', ['cards', 'empty']), [0.4, 0.6])\n",
    "six_months_breakage = BbnNode(Variable(2, 'six_months_breakage', ['yes', 'no']), [0.51, 0.49])\n",
    "six_months_breakage = BbnNode(Variable(2, 'six_months_breakage', ['yes', 'no']),\n",
    "               [0.49, # P(yes|click and cards) \n",
    "                0.51, # P(no|click and cards)\n",
    "                0.1, # P(yes|click and empty) \n",
    "                0.9, # P(no|click and empty)\n",
    "                \n",
    "                0.51, # P(yes|ignore and cards)\n",
    "                0.49, # P(no|ignore and cards)\n",
    "                0.1, # P(yes|ignore and empty)\n",
    "                0.9, # P(no|ignore and empty)\n",
    "               ])\n",
    "\n",
    "bbn = Bbn() \\\n",
    "    .add_node(click_button) \\\n",
    "    .add_node(has_cards) \\\n",
    "    .add_node(six_months_breakage) \\\n",
    "    .add_edge(Edge(click_button, six_months_breakage, EdgeType.DIRECTED)) \\\n",
    "    .add_edge(Edge(has_cards, six_months_breakage, EdgeType.DIRECTED)) \\"
   ]
  },
  {
   "cell_type": "code",
   "execution_count": 300,
   "metadata": {},
   "outputs": [
    {
     "data": {
      "image/png": "[encoded data removed]",
      "text/plain": [
       "<Figure size 432x288 with 1 Axes>"
      ]
     },
     "metadata": {},
     "output_type": "display_data"
    }
   ],
   "source": [
    "%matplotlib inline\n",
    "from pybbn.generator.bbngenerator import convert_for_drawing\n",
    "import matplotlib.pyplot as plt\n",
    "import networkx as nx\n",
    "import warnings\n",
    "\n",
    "with warnings.catch_warnings():\n",
    "    warnings.simplefilter('ignore')\n",
    "    \n",
    "    graph = convert_for_drawing(bbn)\n",
    "    pos = nx.spring_layout(graph)\n",
    "\n",
    "    labels = dict([(k, node.variable.name) for k, node in bbn.nodes.items()])\n",
    "    nx.draw(graph, pos=pos, with_labels=True, labels=labels, node_size=2000, node_color=\"#DDDDDD\", font_size=9)\n",
    "    plt.title('DAG')"
   ]
  },
  {
   "cell_type": "code",
   "execution_count": 304,
   "metadata": {},
   "outputs": [
    {
     "name": "stdout",
     "output_type": "stream",
     "text": [
      "1|has_cards|cards,empty\n",
      "1=cards|0.40000\n",
      "1=empty|0.60000\n",
      "--------------------->\n",
      "2|six_months_breakage|yes,no\n",
      "2=yes|0.26160\n",
      "2=no|0.73840\n",
      "--------------------->\n",
      "0|click_button|click,ignore\n",
      "0=click|0.30000\n",
      "0=ignore|0.70000\n",
      "--------------------->\n"
     ]
    }
   ],
   "source": [
    "join_tree = InferenceController.apply(bbn)\n",
    "# ev = EvidenceBuilder() \\\n",
    "#     .with_node(join_tree.get_bbn_node_by_name('click_button')) \\\n",
    "#     .with_evidence('click', 1.0) \\\n",
    "#     .build()\n",
    "# join_tree.set_observation(ev)\n",
    "\n",
    "# ev2 = EvidenceBuilder() \\\n",
    "#     .with_node(join_tree.get_bbn_node_by_name('preassure')) \\\n",
    "#     .with_evidence('high', 1.0) \\\n",
    "#     .build()\n",
    "# join_tree.set_observation(ev2)\n",
    "\n",
    "for node in join_tree.get_bbn_nodes():\n",
    "    potential = join_tree.get_bbn_potential(node)\n",
    "    print(node)\n",
    "    print(potential)\n",
    "    print('--------------------->')"
   ]
  },
  {
   "cell_type": "code",
   "execution_count": 280,
   "metadata": {},
   "outputs": [],
   "source": [
    "season = BbnNode(Variable(0, 'season', ['winter', 'summer']), [0.5, 0.5])\n",
    "preassure = BbnNode(Variable(1, 'preassure', ['high', 'low']), [0.5, 0.5])\n",
    "rain = BbnNode(Variable(2, 'rain', ['rainy', 'sunny']),\n",
    "               [0.9, # P(rainy|winter and high) \n",
    "                0.1, # P(sunny|winter and high)\n",
    "                0.95, # P(rainy|winter and low) \n",
    "                0.05, # P(sunny|winter and low)\n",
    "                \n",
    "                0.9, # P(rainy|summer and high)\n",
    "                0.1, # P(sunny|summer and high)\n",
    "                0.1, # P(rainy|summer and low)\n",
    "                0.9, # P(sunny|summer and low)\n",
    "               ])\n",
    "\n",
    "bbn = Bbn() \\\n",
    "    .add_node(season) \\\n",
    "    .add_node(preassure) \\\n",
    "    .add_node(rain) \\\n",
    "    .add_edge(Edge(season, rain, EdgeType.DIRECTED)) \\\n",
    "    .add_edge(Edge(preassure, rain, EdgeType.DIRECTED)) \\"
   ]
  },
  {
   "cell_type": "code",
   "execution_count": 281,
   "metadata": {},
   "outputs": [
    {
     "name": "stdout",
     "output_type": "stream",
     "text": [
      "1|preassure|high,low\n",
      "1=high|0.50000\n",
      "1=low|0.50000\n",
      "--------------------->\n",
      "2|rain|rainy,sunny\n",
      "2=rainy|0.50000\n",
      "2=sunny|0.50000\n",
      "--------------------->\n",
      "0|season|winter,summer\n",
      "0=winter|0.00000\n",
      "0=summer|1.00000\n",
      "--------------------->\n"
     ]
    }
   ],
   "source": [
    "join_tree = InferenceController.apply(bbn)\n",
    "ev = EvidenceBuilder() \\\n",
    "    .with_node(join_tree.get_bbn_node_by_name('season')) \\\n",
    "    .with_evidence('summer', 1.0) \\\n",
    "    .build()\n",
    "join_tree.set_observation(ev)\n",
    "\n",
    "# ev2 = EvidenceBuilder() \\\n",
    "#     .with_node(join_tree.get_bbn_node_by_name('preassure')) \\\n",
    "#     .with_evidence('high', 1.0) \\\n",
    "#     .build()\n",
    "# join_tree.set_observation(ev2)\n",
    "\n",
    "for node in join_tree.get_bbn_nodes():\n",
    "    potential = join_tree.get_bbn_potential(node)\n",
    "    print(node)\n",
    "    print(potential)\n",
    "    print('--------------------->')"
   ]
  },
  {
   "cell_type": "code",
   "execution_count": null,
   "metadata": {},
   "outputs": [],
   "source": []
  },
  {
   "cell_type": "code",
   "execution_count": null,
   "metadata": {},
   "outputs": [],
   "source": []
  }
 ],
 "metadata": {
  "kernelspec": {
   "display_name": "Python 3",
   "language": "python",
   "name": "python3"
  },
  "language_info": {
   "codemirror_mode": {
    "name": "ipython",
    "version": 3
   },
   "file_extension": ".py",
   "mimetype": "text/x-python",
   "name": "python",
   "nbconvert_exporter": "python",
   "pygments_lexer": "ipython3",
   "version": "3.6.6"
  }
 },
 "nbformat": 4,
 "nbformat_minor": 2
}
