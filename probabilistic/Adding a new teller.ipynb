{
 "cells": [
  {
   "cell_type": "markdown",
   "metadata": {},
   "source": [
    "Inspired by https://www.johndcook.com/blog/2008/10/21/what-happens-when-you-add-a-new-teller/"
   ]
  },
  {
   "cell_type": "code",
   "execution_count": 292,
   "metadata": {},
   "outputs": [],
   "source": [
    "import pymc3 as pm\n",
    "import matplotlib.pyplot as plt\n",
    "import numpy as np\n",
    "import theano.tensor as tt"
   ]
  },
  {
   "cell_type": "code",
   "execution_count": 293,
   "metadata": {},
   "outputs": [
    {
     "name": "stdout",
     "output_type": "stream",
     "text": [
      "mean_waiting_time with 1 teller 36.31711829451329 min\n",
      "mean_waiting_time with 2 tellers 0.9515962056813041 min\n"
     ]
    }
   ],
   "source": [
    "service_avg = 10.3\n",
    "arrivals_avg = 10\n",
    "visitors = 50\n",
    "\n",
    "all_wt = []\n",
    "def mean_waiting_time(tellers):\n",
    "    means = []\n",
    "    for i in range(1000):\n",
    "        queue_times = np.zeros(tellers)\n",
    "        waiting_times = []\n",
    "        for j in range(visitors):\n",
    "            arrival = np.random.poisson(arrivals_avg)\n",
    "\n",
    "            smaller_queue = np.argmin(queue_times)\n",
    "\n",
    "            for i, q in enumerate(queue_times):\n",
    "                queue_times[i] = max(0, queue_times[i] - arrival)\n",
    "            waiting_times.append(queue_times[smaller_queue])\n",
    "            all_wt.append(queue_times[smaller_queue])\n",
    "\n",
    "            service = np.random.exponential(service_avg)\n",
    "            queue_times[smaller_queue] += service\n",
    "\n",
    "        means.append(np.mean(waiting_times))\n",
    "    return np.mean(means)\n",
    "\n",
    "print(\"mean_waiting_time with 1 teller\", mean_waiting_time(1), \"min\")\n",
    "print(\"mean_waiting_time with 2 tellers\", mean_waiting_time(2), \"min\")"
   ]
  },
  {
   "cell_type": "markdown",
   "metadata": {},
   "source": [
    "First lets simulate the same but using pymc3"
   ]
  },
  {
   "cell_type": "code",
   "execution_count": 294,
   "metadata": {},
   "outputs": [
    {
     "name": "stderr",
     "output_type": "stream",
     "text": [
      "Multiprocess sampling (2 chains in 2 jobs)\n",
      "CompoundStep\n",
      ">Metropolis: [arrivals]\n",
      ">NUTS: [services]\n",
      "Sampling 2 chains: 100%|██████████| 3000/3000 [00:08<00:00, 373.77draws/s]\n",
      "The gelman-rubin statistic is larger than 1.4 for some parameters. The sampler did not converge.\n",
      "The estimated number of effective samples is smaller than 200 for some parameters.\n"
     ]
    },
    {
     "data": {
      "text/plain": [
       "35.852939448382564"
      ]
     },
     "execution_count": 294,
     "metadata": {},
     "output_type": "execute_result"
    }
   ],
   "source": [
    "visitors = 50\n",
    "\n",
    "with pm.Model():\n",
    "    arrivals = pm.Poisson(\"arrivals\", arrivals_avg, shape=visitors)\n",
    "    services = pm.Exponential(\"services\", 1 / service_avg, shape=visitors)\n",
    "    \n",
    "    queue_time = tt.zeros(1)\n",
    "    waiting_times = tt.zeros((visitors, 1))\n",
    "    for i in range(visitors):\n",
    "        queue_time -= arrivals[i]\n",
    "        queue_time = tt.switch(queue_time < tt.zeros(1), tt.zeros(1), queue_time)\n",
    "        waiting_times = tt.set_subtensor(waiting_times[i], queue_time)\n",
    "        queue_time += services[i]\n",
    "    pm.Deterministic(\"waiting_time\", tt.mean(waiting_times))\n",
    "\n",
    "    trace = pm.sample(1000)\n",
    "    \n",
    "np.mean(trace[\"waiting_time\"])"
   ]
  },
  {
   "cell_type": "markdown",
   "metadata": {},
   "source": [
    "Now let's try to go on the oposite direction, we know how much people are spending waiting on the line in average, so let's try to discover what's the avg arrival time and avg service time.\n",
    "\n",
    "First we collect all waiting times"
   ]
  },
  {
   "cell_type": "code",
   "execution_count": 295,
   "metadata": {},
   "outputs": [
    {
     "data": {
      "text/plain": [
       "37.673666396694706"
      ]
     },
     "execution_count": 295,
     "metadata": {},
     "output_type": "execute_result"
    }
   ],
   "source": [
    "all_wt = []\n",
    "mean_waiting_time(1)\n",
    "np.mean(all_wt)"
   ]
  },
  {
   "cell_type": "markdown",
   "metadata": {},
   "source": [
    "Then we plot it to see to what distribution it looks like. Apparently it's exponential"
   ]
  },
  {
   "cell_type": "code",
   "execution_count": 298,
   "metadata": {},
   "outputs": [
    {
     "data": {
      "image/png": "[encoded data removed]",
      "text/plain": [
       "<Figure size 900x288 with 1 Axes>"
      ]
     },
     "metadata": {
      "needs_background": "light"
     },
     "output_type": "display_data"
    }
   ],
   "source": [
    "plt.figure(figsize=(12.5,4))\n",
    "plt.hist([x for x in all_wt if x > 0], histtype=\"stepfilled\", density=True, bins=30)\n",
    "plt.show()"
   ]
  },
  {
   "cell_type": "markdown",
   "metadata": {},
   "source": [
    "Now let's try to reverse-engineer the arrivals and service avg"
   ]
  },
  {
   "cell_type": "code",
   "execution_count": 307,
   "metadata": {},
   "outputs": [
    {
     "name": "stderr",
     "output_type": "stream",
     "text": [
      "Multiprocess sampling (2 chains in 2 jobs)\n",
      "CompoundStep\n",
      ">Metropolis: [services]\n",
      ">Metropolis: [arrivals]\n",
      ">Metropolis: [service_avg]\n",
      ">Metropolis: [arrivals_avg]\n",
      "Sampling 2 chains: 100%|██████████| 3000/3000 [00:06<00:00, 430.08draws/s]\n"
     ]
    },
    {
     "name": "stdout",
     "output_type": "stream",
     "text": [
      "10.0\n",
      "10.0\n"
     ]
    }
   ],
   "source": [
    "visitors = 50\n",
    "\n",
    "with pm.Model() as model:\n",
    "    arrivals_avg = pm.Uniform(\"arrivals_avg\", 5, 15)\n",
    "    service_avg = pm.Uniform(\"service_avg\", 5, 15)\n",
    "    \n",
    "    arrivals = pm.Poisson(\"arrivals\", arrivals_avg, shape=visitors)\n",
    "    services = pm.Exponential(\"services\", 1 / service_avg, shape=visitors)\n",
    "    \n",
    "    queue_time = tt.zeros(1)\n",
    "    waiting_times = tt.zeros((visitors, 1))\n",
    "    for i in range(visitors):\n",
    "        queue_time -= arrivals[i]\n",
    "        queue_time = tt.switch(queue_time < tt.zeros(1), tt.zeros(1), queue_time)\n",
    "        waiting_times = tt.set_subtensor(waiting_times[i], queue_time)\n",
    "        queue_time += services[i]\n",
    "    waiting_time = pm.Exponential(\"waiting_time\", 1 / tt.mean(waiting_times), observed=all_wt)\n",
    "\n",
    "    step = pm.Metropolis()\n",
    "    trace = pm.sample(1000, step=step)\n",
    "    \n",
    "print(np.mean(trace[\"arrivals_avg\"]))\n",
    "print(np.mean(trace[\"service_avg\"]))"
   ]
  },
  {
   "cell_type": "code",
   "execution_count": 308,
   "metadata": {},
   "outputs": [
    {
     "name": "stderr",
     "output_type": "stream",
     "text": [
      "No handles with labels found to put in legend.\n"
     ]
    },
    {
     "name": "stdout",
     "output_type": "stream",
     "text": [
      "arrivals_avg 10.0\n"
     ]
    },
    {
     "data": {
      "image/png": "[encoded data removed]",
      "text/plain": [
       "<Figure size 900x288 with 1 Axes>"
      ]
     },
     "metadata": {
      "needs_background": "light"
     },
     "output_type": "display_data"
    },
    {
     "name": "stderr",
     "output_type": "stream",
     "text": [
      "No handles with labels found to put in legend.\n"
     ]
    },
    {
     "name": "stdout",
     "output_type": "stream",
     "text": [
      "service_avg 10.0\n"
     ]
    },
    {
     "data": {
      "image/png": "[encoded data removed]",
      "text/plain": [
       "<Figure size 900x288 with 1 Axes>"
      ]
     },
     "metadata": {
      "needs_background": "light"
     },
     "output_type": "display_data"
    }
   ],
   "source": [
    "print(\"arrivals_avg\", np.mean(trace[\"arrivals_avg\"][1000:]))\n",
    "plt.figure(figsize=(12.5,4))\n",
    "plt.hist(trace[\"arrivals_avg\"], histtype=\"stepfilled\", density=True)\n",
    "plt.legend()\n",
    "plt.show()\n",
    "\n",
    "print(\"service_avg\", np.mean(trace[\"service_avg\"][1000:]))\n",
    "plt.figure(figsize=(12.5,4))\n",
    "plt.hist(trace[\"service_avg\"], histtype=\"stepfilled\", density=True)\n",
    "plt.legend()\n",
    "plt.show()"
   ]
  },
  {
   "cell_type": "markdown",
   "metadata": {},
   "source": [
    "Good enough, I'd say"
   ]
  },
  {
   "cell_type": "code",
   "execution_count": null,
   "metadata": {},
   "outputs": [],
   "source": []
  }
 ],
 "metadata": {
  "kernelspec": {
   "display_name": "Python 3",
   "language": "python",
   "name": "python3"
  },
  "language_info": {
   "codemirror_mode": {
    "name": "ipython",
    "version": 3
   },
   "file_extension": ".py",
   "mimetype": "text/x-python",
   "name": "python",
   "nbconvert_exporter": "python",
   "pygments_lexer": "ipython3",
   "version": "3.6.6"
  }
 },
 "nbformat": 4,
 "nbformat_minor": 2
}
