{
 "cells": [
  {
   "cell_type": "code",
   "execution_count": 77,
   "metadata": {},
   "outputs": [],
   "source": [
    "# Based on https://www.ethanrosenthal.com/2015/11/02/intro-to-collaborative-filtering/\n",
    "import pandas as pd \n",
    "import numpy as np"
   ]
  },
  {
   "cell_type": "code",
   "execution_count": 78,
   "metadata": {},
   "outputs": [
    {
     "data": {
      "text/html": [
       "<div>\n",
       "<style scoped>\n",
       "    .dataframe tbody tr th:only-of-type {\n",
       "        vertical-align: middle;\n",
       "    }\n",
       "\n",
       "    .dataframe tbody tr th {\n",
       "        vertical-align: top;\n",
       "    }\n",
       "\n",
       "    .dataframe thead th {\n",
       "        text-align: right;\n",
       "    }\n",
       "</style>\n",
       "<table border=\"1\" class=\"dataframe\">\n",
       "  <thead>\n",
       "    <tr style=\"text-align: right;\">\n",
       "      <th></th>\n",
       "      <th>ingredient</th>\n",
       "      <th>title</th>\n",
       "    </tr>\n",
       "  </thead>\n",
       "  <tbody>\n",
       "    <tr>\n",
       "      <th>0</th>\n",
       "      <td>tomate</td>\n",
       "      <td>Galinha com quiabo</td>\n",
       "    </tr>\n",
       "    <tr>\n",
       "      <th>1</th>\n",
       "      <td>frango</td>\n",
       "      <td>Galinha com quiabo</td>\n",
       "    </tr>\n",
       "    <tr>\n",
       "      <th>2</th>\n",
       "      <td>cebola</td>\n",
       "      <td>Galinha com quiabo</td>\n",
       "    </tr>\n",
       "    <tr>\n",
       "      <th>3</th>\n",
       "      <td>alho</td>\n",
       "      <td>Galinha com quiabo</td>\n",
       "    </tr>\n",
       "    <tr>\n",
       "      <th>4</th>\n",
       "      <td>azeite</td>\n",
       "      <td>Galinha com quiabo</td>\n",
       "    </tr>\n",
       "  </tbody>\n",
       "</table>\n",
       "</div>"
      ],
      "text/plain": [
       "  ingredient               title\n",
       "0     tomate  Galinha com quiabo\n",
       "1     frango  Galinha com quiabo\n",
       "2     cebola  Galinha com quiabo\n",
       "3       alho  Galinha com quiabo\n",
       "4     azeite  Galinha com quiabo"
      ]
     },
     "execution_count": 78,
     "metadata": {},
     "output_type": "execute_result"
    }
   ],
   "source": [
    "df = pd.read_csv('ingredients.csv', index_col=0)\n",
    "df.head()"
   ]
  },
  {
   "cell_type": "code",
   "execution_count": 79,
   "metadata": {},
   "outputs": [
    {
     "name": "stdout",
     "output_type": "stream",
     "text": [
      "60 recipes\n",
      "88 ingredients\n"
     ]
    }
   ],
   "source": [
    "recipes = list(df.title.unique())\n",
    "n_recipes = len(recipes)\n",
    "ingredients = list(df.ingredient.unique())\n",
    "n_ingredients = len(ingredients)\n",
    "print(str(n_recipes) + ' recipes')\n",
    "print(str(n_ingredients) + ' ingredients')"
   ]
  },
  {
   "cell_type": "code",
   "execution_count": 80,
   "metadata": {},
   "outputs": [
    {
     "data": {
      "text/plain": [
       "array([[1., 1., 1., ..., 0., 0., 0.],\n",
       "       [0., 1., 1., ..., 0., 0., 0.],\n",
       "       [1., 0., 1., ..., 0., 0., 0.],\n",
       "       ...,\n",
       "       [1., 1., 1., ..., 1., 0., 0.],\n",
       "       [0., 0., 0., ..., 0., 1., 1.],\n",
       "       [0., 0., 0., ..., 0., 0., 0.]])"
      ]
     },
     "execution_count": 80,
     "metadata": {},
     "output_type": "execute_result"
    }
   ],
   "source": [
    "ratings = np.zeros((n_recipes, n_ingredients))\n",
    "for _, row in df.iterrows():\n",
    "    i_index = ingredients.index(row['ingredient'])\n",
    "    r_index = recipes.index(row['title'])\n",
    "    if i_index <= n_ingredients:\n",
    "        ratings[r_index, i_index] = 1\n",
    "ratings"
   ]
  },
  {
   "cell_type": "code",
   "execution_count": 81,
   "metadata": {},
   "outputs": [
    {
     "name": "stdout",
     "output_type": "stream",
     "text": [
      "Sparsity: 9.32%\n"
     ]
    }
   ],
   "source": [
    "sparsity = float(len(ratings.nonzero()[0]))\n",
    "sparsity /= (ratings.shape[0] * ratings.shape[1])\n",
    "sparsity *= 100\n",
    "print('Sparsity: {:4.2f}%'.format(sparsity))"
   ]
  },
  {
   "cell_type": "code",
   "execution_count": 82,
   "metadata": {},
   "outputs": [
    {
     "name": "stdout",
     "output_type": "stream",
     "text": [
      "CPU times: user 432 µs, sys: 778 µs, total: 1.21 ms\n",
      "Wall time: 1.39 ms\n"
     ]
    },
    {
     "data": {
      "text/plain": [
       "array([[1.        , 0.42640143, 0.375     , ..., 0.47140452, 0.40089186,\n",
       "        0.26726124],\n",
       "       [0.42640143, 1.        , 0.42640143, ..., 0.30151134, 0.22792115,\n",
       "        0.56980288],\n",
       "       [0.375     , 0.42640143, 1.        , ..., 0.47140452, 0.13363062,\n",
       "        0.26726124],\n",
       "       ...,\n",
       "       [0.47140452, 0.30151134, 0.47140452, ..., 1.        , 0.12598816,\n",
       "        0.12598816],\n",
       "       [0.40089186, 0.22792115, 0.13363062, ..., 0.12598816, 1.        ,\n",
       "        0.28571429],\n",
       "       [0.26726124, 0.56980288, 0.26726124, ..., 0.12598816, 0.28571429,\n",
       "        1.        ]])"
      ]
     },
     "execution_count": 82,
     "metadata": {},
     "output_type": "execute_result"
    }
   ],
   "source": [
    "def fast_similarity(ratings, kind='user', epsilon=1e-9):\n",
    "    # epsilon -> small number for handling dived-by-zero errors\n",
    "    if kind == 'user':\n",
    "        sim = ratings.dot(ratings.T) + epsilon\n",
    "    elif kind == 'item':\n",
    "        sim = ratings.T.dot(ratings) + epsilon\n",
    "    norms = np.array([np.sqrt(np.diagonal(sim))])\n",
    "    return (sim / norms / norms.T)\n",
    "\n",
    "%time fast_similarity(ratings)"
   ]
  },
  {
   "cell_type": "code",
   "execution_count": 83,
   "metadata": {},
   "outputs": [
    {
     "name": "stdout",
     "output_type": "stream",
     "text": [
      "CPU times: user 501 µs, sys: 514 µs, total: 1.01 ms\n",
      "Wall time: 557 µs\n",
      "CPU times: user 471 µs, sys: 256 µs, total: 727 µs\n",
      "Wall time: 406 µs\n"
     ]
    },
    {
     "data": {
      "text/plain": [
       "array([[0.28900754, 0.3582252 , 0.21897371, ..., 0.24818596, 0.14704109,\n",
       "        0.14704109],\n",
       "       [0.20804584, 0.41210679, 0.2431682 , ..., 0.18202986, 0.08500485,\n",
       "        0.08500485],\n",
       "       [0.26087036, 0.17620441, 0.21932061, ..., 0.21770447, 0.03862996,\n",
       "        0.03862996],\n",
       "       ...,\n",
       "       [0.27066903, 0.36131916, 0.21174399, ..., 0.99999998, 0.03862996,\n",
       "        0.03862996],\n",
       "       [0.13524304, 0.12416851, 0.11521412, ..., 0.04226558, 0.99999999,\n",
       "        0.99999999],\n",
       "       [0.1535271 , 0.1758594 , 0.1520718 , ..., 0.04226558, 0.08500485,\n",
       "        0.08500485]])"
      ]
     },
     "execution_count": 83,
     "metadata": {},
     "output_type": "execute_result"
    }
   ],
   "source": [
    "def predict_fast_simple(ratings, similarity, kind='user'):\n",
    "    if kind == 'user':\n",
    "        return similarity.dot(ratings) / np.array([np.abs(similarity).sum(axis=1)]).T\n",
    "    elif kind == 'item':\n",
    "        return ratings.dot(similarity) / np.array([np.abs(similarity).sum(axis=1)])\n",
    "\n",
    "user_similarity = fast_similarity(ratings, kind='user')\n",
    "%time predict_fast_simple(ratings, user_similarity, kind='user')\n",
    "\n",
    "item_similarity = fast_similarity(ratings, kind='item')\n",
    "%time predict_fast_simple(ratings, item_similarity, kind='item')"
   ]
  },
  {
   "cell_type": "code",
   "execution_count": 84,
   "metadata": {
    "scrolled": true
   },
   "outputs": [
    {
     "data": {
      "text/plain": [
       "{0: 'tomate',\n",
       " 1: 'frango',\n",
       " 2: 'cebola',\n",
       " 3: 'alho',\n",
       " 4: 'azeite',\n",
       " 5: 'quiabo',\n",
       " 6: 'milho',\n",
       " 7: 'sal',\n",
       " 8: 'maionese',\n",
       " 9: 'manteiga',\n",
       " 10: 'ketchup',\n",
       " 11: 'mostarda',\n",
       " 12: 'cogumelo',\n",
       " 13: 'leite',\n",
       " 14: 'batata',\n",
       " 15: 'carne',\n",
       " 16: 'palmito',\n",
       " 17: 'oleo',\n",
       " 18: 'salsinha',\n",
       " 19: 'parmesao',\n",
       " 20: 'mussarela',\n",
       " 21: 'farinha',\n",
       " 22: 'trigo',\n",
       " 23: 'fermento',\n",
       " 24: 'acucar',\n",
       " 25: 'fuba',\n",
       " 26: 'cenoura',\n",
       " 27: 'ovo',\n",
       " 28: 'pimento',\n",
       " 29: 'pimenta',\n",
       " 30: 'oregano',\n",
       " 31: 'tomilho',\n",
       " 32: 'cominho',\n",
       " 33: 'louro',\n",
       " 34: 'cabeca',\n",
       " 35: 'pimentao',\n",
       " 36: 'coentro',\n",
       " 37: 'limao',\n",
       " 38: 'mandioca',\n",
       " 39: 'camarao',\n",
       " 40: 'suco',\n",
       " 41: 'cebolinha',\n",
       " 42: 'merluza',\n",
       " 43: 'picadinho',\n",
       " 44: 'azeitona',\n",
       " 45: 'shoyu',\n",
       " 46: 'alcaparra',\n",
       " 47: 'papel',\n",
       " 48: 'espaguete',\n",
       " 49: 'bacon',\n",
       " 50: 'presunto',\n",
       " 51: 'verde',\n",
       " 52: 'manjericao',\n",
       " 53: 'macarrao',\n",
       " 54: 'linguica',\n",
       " 55: 'margarina',\n",
       " 56: 'requeijao',\n",
       " 57: 'minas',\n",
       " 58: 'lentilha',\n",
       " 59: 'arroz',\n",
       " 60: 'calabresa',\n",
       " 61: 'salsa',\n",
       " 62: 'preto',\n",
       " 63: 'porco',\n",
       " 64: 'costelinha',\n",
       " 65: 'paio',\n",
       " 66: 'vinho',\n",
       " 67: 'mignon',\n",
       " 68: 'legume',\n",
       " 69: 'branco',\n",
       " 70: 'pomarola',\n",
       " 71: 'dorito',\n",
       " 72: 'quente',\n",
       " 73: 'feijao',\n",
       " 74: 'cheiro',\n",
       " 75: 'seca',\n",
       " 76: 'amanhecido',\n",
       " 77: 'maca',\n",
       " 78: 'seco',\n",
       " 79: 'contra',\n",
       " 80: 'acafrao',\n",
       " 81: 'ervilha',\n",
       " 82: 'castanha',\n",
       " 83: 'torrado',\n",
       " 84: 'couve',\n",
       " 85: 'gergelim',\n",
       " 86: 'badejo',\n",
       " 87: 'champignon'}"
      ]
     },
     "execution_count": 84,
     "metadata": {},
     "output_type": "execute_result"
    }
   ],
   "source": [
    "idx_to_ingredients = {}\n",
    "for i, ingredient in enumerate(ingredients):\n",
    "    idx_to_ingredients[i] = ingredient\n",
    "\n",
    "idx_to_ingredients"
   ]
  },
  {
   "cell_type": "code",
   "execution_count": 85,
   "metadata": {},
   "outputs": [],
   "source": [
    "def top_k_ingredients(similarity, mapper, ingredient_idx, k=10):\n",
    "    return [mapper[x] for x in np.argsort(similarity[ingredient_idx,:])[:-k-1:-1]]"
   ]
  },
  {
   "cell_type": "code",
   "execution_count": 86,
   "metadata": {},
   "outputs": [
    {
     "data": {
      "text/plain": [
       "['frango',\n",
       " 'cebola',\n",
       " 'alho',\n",
       " 'milho',\n",
       " 'manteiga',\n",
       " 'gergelim',\n",
       " 'batata',\n",
       " 'sal',\n",
       " 'azeite',\n",
       " 'maionese']"
      ]
     },
     "execution_count": 86,
     "metadata": {},
     "output_type": "execute_result"
    }
   ],
   "source": [
    "idx = ingredients.index(\"frango\") \n",
    "predicted_ingredients = top_k_ingredients(item_similarity, idx_to_ingredients, idx)\n",
    "predicted_ingredients"
   ]
  },
  {
   "cell_type": "code",
   "execution_count": 87,
   "metadata": {},
   "outputs": [],
   "source": [
    "from sklearn.metrics import pairwise_distances\n",
    "# Convert from distance to similarity\n",
    "item_correlation = 1 - pairwise_distances(ratings.T, metric='correlation')\n",
    "item_correlation[np.isnan(item_correlation)] = 0."
   ]
  },
  {
   "cell_type": "code",
   "execution_count": 88,
   "metadata": {},
   "outputs": [
    {
     "data": {
      "text/plain": [
       "['frango',\n",
       " 'milho',\n",
       " 'gergelim',\n",
       " 'manteiga',\n",
       " 'farinha',\n",
       " 'maionese',\n",
       " 'batata',\n",
       " 'azeitona',\n",
       " 'requeijao',\n",
       " 'shoyu']"
      ]
     },
     "metadata": {},
     "output_type": "display_data"
    }
   ],
   "source": [
    "idx = ingredients.index(\"frango\") \n",
    "predicted_ingredients = top_k_ingredients(item_correlation, idx_to_ingredients, idx)\n",
    "display(predicted_ingredients)"
   ]
  },
  {
   "cell_type": "code",
   "execution_count": 93,
   "metadata": {
    "scrolled": false
   },
   "outputs": [
    {
     "name": "stdout",
     "output_type": "stream",
     "text": [
      "Similar to 60 ['badejo', 'alcaparra']\n",
      "['Peixe à Belle Meunière', 'Peixe no papelote', 'Torresmo sequinho sem estouro']\n"
     ]
    },
    {
     "data": {
      "text/html": [
       "<div>\n",
       "<style scoped>\n",
       "    .dataframe tbody tr th:only-of-type {\n",
       "        vertical-align: middle;\n",
       "    }\n",
       "\n",
       "    .dataframe tbody tr th {\n",
       "        vertical-align: top;\n",
       "    }\n",
       "\n",
       "    .dataframe thead th {\n",
       "        text-align: right;\n",
       "    }\n",
       "</style>\n",
       "<table border=\"1\" class=\"dataframe\">\n",
       "  <thead>\n",
       "    <tr style=\"text-align: right;\">\n",
       "      <th></th>\n",
       "      <th>ingredient</th>\n",
       "    </tr>\n",
       "    <tr>\n",
       "      <th>title</th>\n",
       "      <th></th>\n",
       "    </tr>\n",
       "  </thead>\n",
       "  <tbody>\n",
       "    <tr>\n",
       "      <th>Peixe no papelote</th>\n",
       "      <td>merluza</td>\n",
       "    </tr>\n",
       "    <tr>\n",
       "      <th>Peixe no papelote</th>\n",
       "      <td>alho</td>\n",
       "    </tr>\n",
       "    <tr>\n",
       "      <th>Peixe no papelote</th>\n",
       "      <td>cebola</td>\n",
       "    </tr>\n",
       "    <tr>\n",
       "      <th>Peixe no papelote</th>\n",
       "      <td>alcaparra</td>\n",
       "    </tr>\n",
       "    <tr>\n",
       "      <th>Peixe no papelote</th>\n",
       "      <td>limao</td>\n",
       "    </tr>\n",
       "    <tr>\n",
       "      <th>Peixe no papelote</th>\n",
       "      <td>sal</td>\n",
       "    </tr>\n",
       "    <tr>\n",
       "      <th>Peixe no papelote</th>\n",
       "      <td>papel</td>\n",
       "    </tr>\n",
       "    <tr>\n",
       "      <th>Peixe à Belle Meunière</th>\n",
       "      <td>alho</td>\n",
       "    </tr>\n",
       "    <tr>\n",
       "      <th>Peixe à Belle Meunière</th>\n",
       "      <td>champignon</td>\n",
       "    </tr>\n",
       "    <tr>\n",
       "      <th>Peixe à Belle Meunière</th>\n",
       "      <td>alcaparra</td>\n",
       "    </tr>\n",
       "    <tr>\n",
       "      <th>Peixe à Belle Meunière</th>\n",
       "      <td>camarao</td>\n",
       "    </tr>\n",
       "    <tr>\n",
       "      <th>Peixe à Belle Meunière</th>\n",
       "      <td>sal</td>\n",
       "    </tr>\n",
       "    <tr>\n",
       "      <th>Peixe à Belle Meunière</th>\n",
       "      <td>azeite</td>\n",
       "    </tr>\n",
       "    <tr>\n",
       "      <th>Peixe à Belle Meunière</th>\n",
       "      <td>badejo</td>\n",
       "    </tr>\n",
       "    <tr>\n",
       "      <th>Torresmo sequinho sem estouro</th>\n",
       "      <td>oleo</td>\n",
       "    </tr>\n",
       "    <tr>\n",
       "      <th>Torresmo sequinho sem estouro</th>\n",
       "      <td>limao</td>\n",
       "    </tr>\n",
       "    <tr>\n",
       "      <th>Torresmo sequinho sem estouro</th>\n",
       "      <td>sal</td>\n",
       "    </tr>\n",
       "    <tr>\n",
       "      <th>Torresmo sequinho sem estouro</th>\n",
       "      <td>trigo</td>\n",
       "    </tr>\n",
       "  </tbody>\n",
       "</table>\n",
       "</div>"
      ],
      "text/plain": [
       "                               ingredient\n",
       "title                                    \n",
       "Peixe no papelote                 merluza\n",
       "Peixe no papelote                    alho\n",
       "Peixe no papelote                  cebola\n",
       "Peixe no papelote               alcaparra\n",
       "Peixe no papelote                   limao\n",
       "Peixe no papelote                     sal\n",
       "Peixe no papelote                   papel\n",
       "Peixe à Belle Meunière               alho\n",
       "Peixe à Belle Meunière         champignon\n",
       "Peixe à Belle Meunière          alcaparra\n",
       "Peixe à Belle Meunière            camarao\n",
       "Peixe à Belle Meunière                sal\n",
       "Peixe à Belle Meunière             azeite\n",
       "Peixe à Belle Meunière             badejo\n",
       "Torresmo sequinho sem estouro        oleo\n",
       "Torresmo sequinho sem estouro       limao\n",
       "Torresmo sequinho sem estouro         sal\n",
       "Torresmo sequinho sem estouro       trigo"
      ]
     },
     "execution_count": 93,
     "metadata": {},
     "output_type": "execute_result"
    }
   ],
   "source": [
    "ratings = np.zeros((n_recipes + 1, n_ingredients))\n",
    "for _, row in df.iterrows():\n",
    "    i_index = ingredients.index(row['ingredient'])\n",
    "    r_index = recipes.index(row['title'])\n",
    "    if i_index <= n_ingredients:\n",
    "        ratings[r_index, i_index] = 1\n",
    "\n",
    "new_recipe = [\"badejo\", \"alcaparra\"]\n",
    "for ingredient in new_recipe:\n",
    "    i_index = ingredients.index(ingredient)\n",
    "    ratings[n_recipes, i_index] = 1\n",
    "\n",
    "# ratings\n",
    "user_similarity = fast_similarity(ratings, kind='user')\n",
    "\n",
    "def get_recipe(idx):\n",
    "    if idx >= len(recipes):\n",
    "        return \"New Recipe\"\n",
    "    else:\n",
    "        return recipes[idx]\n",
    "\n",
    "k = 3\n",
    "idx = n_recipes # New recipe\n",
    "print(\"Similar to\", idx, new_recipe)\n",
    "\n",
    "most_similar = np.flip(np.argsort(user_similarity[idx,:]))\n",
    "\n",
    "similar_users = [ recipes[i] for i in most_similar[0:k+1] if i != idx ]\n",
    "print(similar_users)\n",
    "df[df['title'].isin(similar_users)].set_index('title').sort_values('title')#['title'].value_counts()"
   ]
  },
  {
   "cell_type": "code",
   "execution_count": null,
   "metadata": {},
   "outputs": [],
   "source": []
  },
  {
   "cell_type": "code",
   "execution_count": null,
   "metadata": {},
   "outputs": [],
   "source": []
  }
 ],
 "metadata": {
  "kernelspec": {
   "display_name": "Python 3",
   "language": "python",
   "name": "python3"
  },
  "language_info": {
   "codemirror_mode": {
    "name": "ipython",
    "version": 3
   },
   "file_extension": ".py",
   "mimetype": "text/x-python",
   "name": "python",
   "nbconvert_exporter": "python",
   "pygments_lexer": "ipython3",
   "version": "3.6.6"
  }
 },
 "nbformat": 4,
 "nbformat_minor": 2
}
