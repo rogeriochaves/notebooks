{
 "cells": [
  {
   "cell_type": "code",
   "execution_count": 50,
   "metadata": {},
   "outputs": [],
   "source": [
    "import pandas as pd\n",
    "import re\n",
    "import numpy as np\n",
    "from sklearn.linear_model import LinearRegression\n",
    "import sklearn.metrics"
   ]
  },
  {
   "cell_type": "code",
   "execution_count": 6,
   "metadata": {},
   "outputs": [
    {
     "name": "stdout",
     "output_type": "stream",
     "text": [
      "Total 2662\n"
     ]
    },
    {
     "data": {
      "text/html": [
       "<div>\n",
       "<style scoped>\n",
       "    .dataframe tbody tr th:only-of-type {\n",
       "        vertical-align: middle;\n",
       "    }\n",
       "\n",
       "    .dataframe tbody tr th {\n",
       "        vertical-align: top;\n",
       "    }\n",
       "\n",
       "    .dataframe thead th {\n",
       "        text-align: right;\n",
       "    }\n",
       "</style>\n",
       "<table border=\"1\" class=\"dataframe\">\n",
       "  <thead>\n",
       "    <tr style=\"text-align: right;\">\n",
       "      <th></th>\n",
       "      <th>address</th>\n",
       "      <th>living_area</th>\n",
       "      <th>price</th>\n",
       "      <th>rooms</th>\n",
       "      <th>url</th>\n",
       "    </tr>\n",
       "  </thead>\n",
       "  <tbody>\n",
       "    <tr>\n",
       "      <th>0</th>\n",
       "      <td>Oterleekstraat 15 1023 ED Amsterdam</td>\n",
       "      <td>63.0</td>\n",
       "      <td>319.0</td>\n",
       "      <td>4.0</td>\n",
       "      <td>https://www.funda.nl/en/koop/amsterdam/huis-40...</td>\n",
       "    </tr>\n",
       "    <tr>\n",
       "      <th>1</th>\n",
       "      <td>Bastenakenstraat 142 1066 JG Amsterdam</td>\n",
       "      <td>151.0</td>\n",
       "      <td>850.0</td>\n",
       "      <td>4.0</td>\n",
       "      <td>https://www.funda.nl/en/koop/amsterdam/huis-86...</td>\n",
       "    </tr>\n",
       "    <tr>\n",
       "      <th>2</th>\n",
       "      <td>Roeselarestraat 11 1066 SW Amsterdam</td>\n",
       "      <td>95.0</td>\n",
       "      <td>350.0</td>\n",
       "      <td>4.0</td>\n",
       "      <td>https://www.funda.nl/en/koop/amsterdam/huis-86...</td>\n",
       "    </tr>\n",
       "    <tr>\n",
       "      <th>3</th>\n",
       "      <td>Jan Vrijmanstraat 165 1087 MB Amsterdam</td>\n",
       "      <td>158.0</td>\n",
       "      <td>699.0</td>\n",
       "      <td>5.0</td>\n",
       "      <td>https://www.funda.nl/en/koop/amsterdam/huis-40...</td>\n",
       "    </tr>\n",
       "    <tr>\n",
       "      <th>4</th>\n",
       "      <td>Van Boshuizenstraat 547 1082 AV Amsterdam</td>\n",
       "      <td>155.0</td>\n",
       "      <td>700.0</td>\n",
       "      <td>8.0</td>\n",
       "      <td>https://www.funda.nl/en/koop/amsterdam/huis-40...</td>\n",
       "    </tr>\n",
       "  </tbody>\n",
       "</table>\n",
       "</div>"
      ],
      "text/plain": [
       "                                     address  living_area  price  rooms  \\\n",
       "0        Oterleekstraat 15 1023 ED Amsterdam         63.0  319.0    4.0   \n",
       "1     Bastenakenstraat 142 1066 JG Amsterdam        151.0  850.0    4.0   \n",
       "2       Roeselarestraat 11 1066 SW Amsterdam         95.0  350.0    4.0   \n",
       "3    Jan Vrijmanstraat 165 1087 MB Amsterdam        158.0  699.0    5.0   \n",
       "4  Van Boshuizenstraat 547 1082 AV Amsterdam        155.0  700.0    8.0   \n",
       "\n",
       "                                                 url  \n",
       "0  https://www.funda.nl/en/koop/amsterdam/huis-40...  \n",
       "1  https://www.funda.nl/en/koop/amsterdam/huis-86...  \n",
       "2  https://www.funda.nl/en/koop/amsterdam/huis-86...  \n",
       "3  https://www.funda.nl/en/koop/amsterdam/huis-40...  \n",
       "4  https://www.funda.nl/en/koop/amsterdam/huis-40...  "
      ]
     },
     "execution_count": 6,
     "metadata": {},
     "output_type": "execute_result"
    }
   ],
   "source": [
    "df = pd.read_csv(\"../find-a-house/funda-2018-02-10.csv\")\n",
    "\n",
    "def clean_number(p):\n",
    "    p = str(p)\n",
    "    p = p.replace(\"€ \", \"\")\n",
    "    p = p.replace(\" k.k.\", \"\")\n",
    "    p = p.replace(\" v.o.n.\", \"\")\n",
    "    p = p.replace(\" (auction)\", \"\")\n",
    "    p = p.replace(\",\", \"\")\n",
    "    if (re.findall('Price on request', p)):\n",
    "        return None\n",
    "    return float(p)\n",
    "\n",
    "df = df.drop(columns=['plot_size'])\n",
    "df['price'] = [ clean_number(p) for p in df['price'] ]\n",
    "df['price'] /= 1000\n",
    "df['living_area'] = [ clean_number(p) for p in df['living_area'] ]\n",
    "df = df.dropna()\n",
    "print(\"Total\", len(df))\n",
    "df.head()"
   ]
  },
  {
   "cell_type": "markdown",
   "metadata": {},
   "source": [
    "$$ var(A)=E[(A−E[A])2] $$"
   ]
  },
  {
   "cell_type": "code",
   "execution_count": 26,
   "metadata": {},
   "outputs": [
    {
     "name": "stdout",
     "output_type": "stream",
     "text": [
      "var(living_area) 5533.6381604980015\n",
      "var(rooms) 3.8513222237337583\n"
     ]
    }
   ],
   "source": [
    "def variance(a):\n",
    "    return np.mean((np.array(a) - np.mean(a)) ** 2)\n",
    "\n",
    "print(\"var(living_area)\", variance(df['living_area']))\n",
    "print(\"var(rooms)\", variance(df['rooms']))"
   ]
  },
  {
   "cell_type": "markdown",
   "metadata": {},
   "source": [
    "$$ Cov(A,B)=E[(A−E[A])(B−E[B])] $$"
   ]
  },
  {
   "cell_type": "code",
   "execution_count": 25,
   "metadata": {},
   "outputs": [
    {
     "name": "stdout",
     "output_type": "stream",
     "text": [
      "cov(living_area, price) 42288.041208142706\n",
      "cov(rooms, price) 862.3315915723479\n"
     ]
    }
   ],
   "source": [
    "def covariance(a, b):\n",
    "    return np.mean((np.array(a) - np.mean(a)) * (np.array(b) - np.mean(b)))\n",
    "\n",
    "print(\"cov(living_area, price)\", covariance(df['living_area'], df['price']))\n",
    "print(\"cov(rooms, price)\", covariance(df['rooms'], df['price']))"
   ]
  },
  {
   "cell_type": "markdown",
   "metadata": {},
   "source": [
    "$$ Corr(A,B)=Cov(A,B)/\\sqrt{var(A)var(B)} $$"
   ]
  },
  {
   "cell_type": "code",
   "execution_count": 37,
   "metadata": {},
   "outputs": [
    {
     "name": "stdout",
     "output_type": "stream",
     "text": [
      "corr(living_area, price) 0.8538283284364955\n",
      "numpy corrcoef 0.8538283284364955\n",
      "\n",
      "corr(rooms, price) 0.6599753857883435\n",
      "numpy corrcoef 0.6599753857883441\n"
     ]
    }
   ],
   "source": [
    "def correlation(a, b):\n",
    "    return covariance(a, b) / np.sqrt(variance(a) * variance(b))\n",
    "\n",
    "print(\"corr(living_area, price)\", correlation(df['living_area'], df['price']))\n",
    "print(\"numpy corrcoef\", np.corrcoef(df['living_area'], df['price'])[0,1])\n",
    "print(\"\\ncorr(rooms, price)\", correlation(df['rooms'], df['price']))\n",
    "print(\"numpy corrcoef\", np.corrcoef(df['rooms'], df['price'])[0,1])"
   ]
  },
  {
   "cell_type": "markdown",
   "metadata": {},
   "source": [
    "$$\n",
    "MSE = \\frac{\\sum{(y−f(X))^2}}{n}\n",
    "\\\\\n",
    "\\\\\n",
    "RMSE = \\sqrt{MSE}\n",
    "$$\n"
   ]
  },
  {
   "cell_type": "code",
   "execution_count": 71,
   "metadata": {},
   "outputs": [
    {
     "name": "stdout",
     "output_type": "stream",
     "text": [
      "mse 120120.18393659618\n",
      "sklearn mse 120120.18393659618\n",
      "rmse 346.58358867176065\n"
     ]
    }
   ],
   "source": [
    "X = np.array([df['living_area']]).T\n",
    "y = df['price']\n",
    "\n",
    "model = LinearRegression()\n",
    "model.fit(X, y)\n",
    "\n",
    "def mse(y, fn_X):\n",
    "    return np.sum((y - fn_X) ** 2) / len(y)\n",
    "\n",
    "y_pred = model.predict(X)\n",
    "print(\"mse\", mse(y, y_pred))\n",
    "print(\"sklearn mse\", sklearn.metrics.mean_squared_error(y, y_pred))\n",
    "print(\"rmse\", np.sqrt(mse(y, y_pred)))"
   ]
  },
  {
   "cell_type": "markdown",
   "metadata": {},
   "source": [
    "$$ R^2 = 1 − \\frac{MSE}{var(y)} $$"
   ]
  },
  {
   "cell_type": "code",
   "execution_count": 72,
   "metadata": {},
   "outputs": [
    {
     "name": "stdout",
     "output_type": "stream",
     "text": [
      "r2 0.7290228144406602\n",
      "sklearn r2 0.7290228144406602\n"
     ]
    }
   ],
   "source": [
    "def r2(y, fn_X):\n",
    "    return 1 - mse(y, fn_X) / variance(y)\n",
    "\n",
    "print(\"r2\", r2(y, y_pred))\n",
    "print(\"sklearn r2\", model.score(X, y))"
   ]
  },
  {
   "cell_type": "code",
   "execution_count": null,
   "metadata": {},
   "outputs": [],
   "source": []
  }
 ],
 "metadata": {
  "kernelspec": {
   "display_name": "Python 3",
   "language": "python",
   "name": "python3"
  },
  "language_info": {
   "codemirror_mode": {
    "name": "ipython",
    "version": 3
   },
   "file_extension": ".py",
   "mimetype": "text/x-python",
   "name": "python",
   "nbconvert_exporter": "python",
   "pygments_lexer": "ipython3",
   "version": "3.6.6"
  }
 },
 "nbformat": 4,
 "nbformat_minor": 2
}
