{
 "cells": [
  {
   "cell_type": "code",
   "execution_count": 1,
   "metadata": {},
   "outputs": [],
   "source": [
    "import numpy as np\n",
    "from numpy.random import rand, binomial, choice\n",
    "import matplotlib.pyplot as plt"
   ]
  },
  {
   "cell_type": "markdown",
   "metadata": {},
   "source": [
    "If I toss a coin 10 times, and 6 of them comes up heads, would you think the coin is biased? What if I toss 100 times and 60 of them comes as heads? What if I toss 1000 times and 600 of them comes as heads?"
   ]
  },
  {
   "cell_type": "code",
   "execution_count": 2,
   "metadata": {},
   "outputs": [
    {
     "name": "stdout",
     "output_type": "stream",
     "text": [
      "[1, 1, 0, 1, 1, 1, 0, 0, 0, 0]\n",
      "heads 5\n"
     ]
    }
   ],
   "source": [
    "head_probability = 0.5 # change to 0.6\n",
    "tosses = 10 # change to 100, 1000, 10000\n",
    "\n",
    "results = []\n",
    "for _ in range(0, tosses):\n",
    "    is_heads = 1 if rand() < head_probability else 0\n",
    "    results.append(is_heads)\n",
    "        \n",
    "print(results)\n",
    "print(\"heads\", np.sum(results))"
   ]
  },
  {
   "cell_type": "code",
   "execution_count": 4,
   "metadata": {},
   "outputs": [
    {
     "data": {
      "text/plain": [
       "array([0, 0, 0, 1, 1, 1, 0, 0, 0, 0])"
      ]
     },
     "execution_count": 4,
     "metadata": {},
     "output_type": "execute_result"
    }
   ],
   "source": [
    "# numpy.random.binomial(n, p, size)\n",
    "binomial(1, head_probability, size=tosses)"
   ]
  },
  {
   "cell_type": "code",
   "execution_count": 12,
   "metadata": {},
   "outputs": [
    {
     "name": "stdout",
     "output_type": "stream",
     "text": [
      "mean 50.105\n",
      "max 67\n"
     ]
    },
    {
     "data": {
      "image/png": "[encoded data removed]",
      "text/plain": [
       "<Figure size 432x288 with 1 Axes>"
      ]
     },
     "metadata": {
      "needs_background": "light"
     },
     "output_type": "display_data"
    }
   ],
   "source": [
    "tosses = 100 # change to 1000\n",
    "head_probability = 0.5 # change to 0.6 later\n",
    "\n",
    "all_heads = []\n",
    "for _ in range(0, 1000): # change to 10_000, then 100_000\n",
    "    heads = binomial(1, head_probability, size=tosses).sum()\n",
    "    all_heads.append(heads)\n",
    "\n",
    "plt.hist(all_heads);\n",
    "mean = np.mean(all_heads)\n",
    "print(\"mean\", mean)\n",
    "print(\"max\", max(all_heads))"
   ]
  },
  {
   "cell_type": "code",
   "execution_count": 11,
   "metadata": {},
   "outputs": [
    {
     "name": "stdout",
     "output_type": "stream",
     "text": [
      "confidence interval 40.00249529060241 - 59.909504709397595\n",
      "within ci 0.943 %\n"
     ]
    }
   ],
   "source": [
    "low_ci = mean - np.std(all_heads) * 2\n",
    "high_ci = mean + np.std(all_heads) * 2\n",
    "print(\"confidence interval\", low_ci, \"-\", high_ci)\n",
    "\n",
    "print(\"within ci\", len([ x for x in all_heads if x > low_ci and x < high_ci ]) / len(all_heads), \"%\")"
   ]
  },
  {
   "cell_type": "markdown",
   "metadata": {},
   "source": [
    "So how do we compare confidence two coins? If we toss just 10 times, you won't be able to see a different between the two coins, no matter how many experiments you do with 10 tosses *incresases size*. Now, if you toss 100 times, then they start to get more different, if you toss 1000 times then the difference of which is biased and which is not is obvious"
   ]
  },
  {
   "cell_type": "code",
   "execution_count": 14,
   "metadata": {},
   "outputs": [
    {
     "name": "stdout",
     "output_type": "stream",
     "text": [
      "observed_difference = 1.109\n"
     ]
    },
    {
     "data": {
      "image/png": "[encoded data removed]",
      "text/plain": [
       "<Figure size 432x288 with 1 Axes>"
      ]
     },
     "metadata": {
      "needs_background": "light"
     },
     "output_type": "display_data"
    }
   ],
   "source": [
    "tosses = 10 # later change to 100, 1000\n",
    "\n",
    "head_probability_a = 0.5\n",
    "all_heads_a = []\n",
    "for _ in range(0, 1000): # change to 10_000, then 100_000\n",
    "    heads = binomial(1, head_probability_a, size=tosses).sum()\n",
    "    all_heads_a.append(heads)\n",
    "\n",
    "head_probability_b = 0.6\n",
    "all_heads_b = []\n",
    "for _ in range(0, 1000): # change to 10_000, then 100_000\n",
    "    heads = binomial(1, head_probability_b, size=tosses).sum()\n",
    "    all_heads_b.append(heads)\n",
    "    \n",
    "plt.hist(all_heads_a)\n",
    "plt.hist(all_heads_b)\n",
    "\n",
    "observed_difference = np.mean(all_heads_b) - np.mean(all_heads_a)\n",
    "print(\"observed_difference =\", observed_difference)"
   ]
  },
  {
   "cell_type": "markdown",
   "metadata": {},
   "source": [
    "Intuitively, saying an experiment is \"statistically significant\" is exactly that! The fact that those two curves don't touch, or that they *barely* touch. But now replace \"coins\" with \"Base or Variant\" and \"bias\" with \"conversion rate\"\n",
    "\n",
    "Let's say we have an experiment one the booking home page. We have 1000 visitors and our conversion rate is 11%, and let's say we build a new feature, a variant, which increases the conversion by 1%, that is, convertion goes up to 12%, which translates to gazillions of euros extra"
   ]
  },
  {
   "cell_type": "code",
   "execution_count": 3,
   "metadata": {},
   "outputs": [
    {
     "name": "stdout",
     "output_type": "stream",
     "text": [
      "ci base 94 - 127\n",
      "ci variant 104 - 137\n",
      "observed_difference 1.01 %\n"
     ]
    },
    {
     "data": {
      "image/png": "[encoded data removed]",
      "text/plain": [
       "<Figure size 432x288 with 1 Axes>"
      ]
     },
     "metadata": {
      "needs_background": "light"
     },
     "output_type": "display_data"
    }
   ],
   "source": [
    "sample_size = 1000 # change to 10_000 later\n",
    "\n",
    "base_convertion_rate = 0.11\n",
    "bases = []\n",
    "for _ in range(0, 1000): # change to 1 later\n",
    "    bases.append(binomial(1, base_convertion_rate, size=sample_size))\n",
    "    \n",
    "variant_convertion_rate = 0.12\n",
    "variants = []\n",
    "for _ in range(0, 1000): # change to 1 later\n",
    "    variants.append(binomial(1, variant_convertion_rate, size=sample_size))\n",
    "    \n",
    "sum_base = np.sum(bases, axis=1)\n",
    "plt.hist(sum_base)\n",
    "print(\"ci base\", round(np.percentile(sum_base, 5)), \"-\", round(np.percentile(sum_base, 95)))\n",
    "\n",
    "sum_variant = np.sum(variants, axis=1)\n",
    "plt.hist(sum_variant)\n",
    "print(\"ci variant\", round(np.percentile(sum_variant, 5)), \"-\", round(np.percentile(sum_variant, 95)))\n",
    "\n",
    "observed_difference = np.mean(variants) - np.mean(bases)\n",
    "print(\"observed_difference\", \"%.2f\" % (observed_difference * 100), \"%\")"
   ]
  },
  {
   "cell_type": "markdown",
   "metadata": {},
   "source": [
    "But wait! We cannot run the experiment 1000 times right? Only once, what happens in this case? *changes to 1*\n",
    "\n",
    "So how can we know, with a single run, if our experiment is statistically significant? One very cool solution to that is called \"the permutation test\", the basic idea of this test is: if I had this same population, with same conversion numbers, but I simply tagged different people to be in base and in variant, could I achieve same or better results?\n",
    "\n",
    "In other words, maybe it was not our intervention, our feature, that really made a difference on this A/B test, maybe I just happened to luckly tag those good customers as \"variant\". To verify that, we keep the same people and their outcomes, but we randomize who was in base and who was in variant, then we calculate to see the result we would have got from it. We repeat that a thousand times, and check how many times did we get, at random, a result better than what we got with our original experiment.\n",
    "\n",
    "So first we are going to run 1 single experiment:"
   ]
  },
  {
   "cell_type": "code",
   "execution_count": 97,
   "metadata": {},
   "outputs": [
    {
     "name": "stdout",
     "output_type": "stream",
     "text": [
      "observed_difference 0.90 %\n"
     ]
    }
   ],
   "source": [
    "sample_size = 1_000 # change to 10_000, then back to 1000, then to 10_000, try to get a number smaller than 1%\n",
    "base = binomial(1, base_convertion_rate, size=sample_size)\n",
    "variant = binomial(1, variant_convertion_rate, size=sample_size)\n",
    "observed_difference = np.mean(variant) - np.mean(base)\n",
    "print(\"observed_difference\", \"%.2f\" % (observed_difference * 100), \"%\")"
   ]
  },
  {
   "cell_type": "code",
   "execution_count": 98,
   "metadata": {},
   "outputs": [
    {
     "name": "stdout",
     "output_type": "stream",
     "text": [
      "how many times did we randomly got a difference bigger than what we observed: 28.4 %\n",
      "one-sided p-value 0.2845\n"
     ]
    },
    {
     "data": {
      "image/png": "[encoded data removed]",
      "text/plain": [
       "<Figure size 432x288 with 1 Axes>"
      ]
     },
     "metadata": {
      "needs_background": "light"
     },
     "output_type": "display_data"
    }
   ],
   "source": [
    "# start with\n",
    "# (new_base, new_variant) = choice(np.concatenate((base, variant)), size=(2, sample_size), replace=False)\n",
    "# new_base\n",
    "\n",
    "# then\n",
    "# simulated_difference = np.mean(new_variant) - np.mean(new_base)\n",
    "# print(\"simulated_difference\", \"%.2f\" % (simulated_difference * 100), \"%\")\n",
    "\n",
    "differences = []\n",
    "\n",
    "permutations = 10_000\n",
    "for _ in range(0, permutations):\n",
    "    (new_base, new_variant) = choice(np.concatenate((base, variant)), size=(2, len(base)), replace=False)\n",
    "    simulated_difference = np.mean(new_variant) - np.mean(new_base)\n",
    "    differences.append(simulated_difference)\n",
    "\n",
    "plt.hist(differences);\n",
    "\n",
    "times_bigger_than_observed = np.sum(np.array(differences) >= observed_difference)\n",
    "print(\"how many times did we randomly got a difference bigger than what we observed:\",\n",
    "      \"%.1f\" % (times_bigger_than_observed / permutations * 100), \"%\")\n",
    "print(\"one-sided p-value\", times_bigger_than_observed / permutations)"
   ]
  },
  {
   "cell_type": "markdown",
   "metadata": {},
   "source": [
    "That's it, this is the p-value! Again: the chance that we get, by random, the same or greater result as our experiment did. We want to reduce this value, we want there to be almost no chance to get this result by luck, to say, with confidence, that our intervation made a difference *change to 10_000*\n",
    "\n",
    "It is a convention that we say our experiment is statistically significant when p < 0.05, that is, we say it is statistically significant when there is less than 5% chance that we achieved those results just by luck. On the long run, it will happen that we DID achieve it just by luck, 5% of the time we will have false positives, but 95% of the time we will be right, in theory, in practice people can game this metric but this is a different story.\n",
    "\n",
    "There is also another explanation that goes like this, there is a default hypothesis, called the null hypothesis, that says that there is no difference between base and variant, zero. And then there is the alternative hypothesis, OUR hypothesis, that says that our intervention actually DOES have a difference, and what we are trying to do is actually to reject the null-hypothesis.\n",
    "\n",
    "In other words, we want to say that the chance for the null-hypothesis to happen is so low, that we reject it, we would have to be very very lucky for this difference to have happened by chance. As mentiones a value of 5% is usually used, which means p-value < 0.05, so we reject it, it's like saying \"I don't know exaclty how much better this is, but I know that it's not zero, I reject it, it would have to be a huge coincidence\" "
   ]
  },
  {
   "cell_type": "markdown",
   "metadata": {},
   "source": [
    "Another way of achieving the p-value, easier, although maybe less obvious of why it works, is to do what we call a sampling distribution. We take make random samples out of our current sample, with replacement, many times. This will build a distribution where we can visually see if the difference between base and variant"
   ]
  },
  {
   "cell_type": "code",
   "execution_count": 99,
   "metadata": {},
   "outputs": [
    {
     "name": "stdout",
     "output_type": "stream",
     "text": [
      "ci base 89 - 121\n",
      "ci variant 98 - 131\n"
     ]
    },
    {
     "data": {
      "image/png": "[encoded data removed]",
      "text/plain": [
       "<Figure size 432x288 with 1 Axes>"
      ]
     },
     "metadata": {
      "needs_background": "light"
     },
     "output_type": "display_data"
    }
   ],
   "source": [
    "base_sampling = []\n",
    "variant_sampling = []\n",
    "for _ in range(0, 10_000):\n",
    "    base_sampling.append(choice(base, sample_size, replace=True).sum())\n",
    "    variant_sampling.append(choice(variant, sample_size, replace=True).sum())\n",
    "\n",
    "plt.hist(base_sampling)\n",
    "plt.hist(variant_sampling)\n",
    "\n",
    "print(\"ci base\", round(np.percentile(base_sampling, 5)), \"-\", round(np.percentile(base_sampling, 95)))\n",
    "print(\"ci variant\", round(np.percentile(variant_sampling, 5)), \"-\", round(np.percentile(variant_sampling, 95)))"
   ]
  },
  {
   "cell_type": "markdown",
   "metadata": {},
   "source": [
    "Then to calculate the p-value we just take the difference of averages between base and variant, and then count how many times this difference was smaller than 0. If it's a low amount, say 5%, then p-value is small, which means it's very hard to get zero with those populations, so we reject the null-hypothesis that the difference is zero"
   ]
  },
  {
   "cell_type": "code",
   "execution_count": 100,
   "metadata": {},
   "outputs": [
    {
     "name": "stdout",
     "output_type": "stream",
     "text": [
      "how many times did we get a difference smaller than zero: 25.26 %\n",
      "one-sided p-value 0.2526\n"
     ]
    },
    {
     "data": {
      "image/png": "[encoded data removed]",
      "text/plain": [
       "<Figure size 432x288 with 1 Axes>"
      ]
     },
     "metadata": {
      "needs_background": "light"
     },
     "output_type": "display_data"
    }
   ],
   "source": [
    "sampling_differences = (np.array(variant_sampling) - np.array(base_sampling)) / 10_000\n",
    "\n",
    "times_smaller_than_zero = (np.sum(sampling_differences < 0) / 10_000)\n",
    "\n",
    "print(\"how many times did we get a difference smaller than zero:\", \"%.2f\" % (times_smaller_than_zero * 100), \"%\")\n",
    "print(\"one-sided p-value\", times_smaller_than_zero)\n",
    "plt.hist(sampling_differences);"
   ]
  },
  {
   "cell_type": "markdown",
   "metadata": {},
   "source": [
    "A third way, ever easier, and what you should actually do, is to use this library:"
   ]
  },
  {
   "cell_type": "code",
   "execution_count": 101,
   "metadata": {},
   "outputs": [
    {
     "data": {
      "text/plain": [
       "0.25975474488601336"
      ]
     },
     "execution_count": 101,
     "metadata": {},
     "output_type": "execute_result"
    }
   ],
   "source": [
    "import scipy.stats as stats\n",
    "\n",
    "stats.ttest_ind(base, variant, alternative=\"less\").pvalue"
   ]
  },
  {
   "cell_type": "markdown",
   "metadata": {},
   "source": [
    "But! Those p-values we have above is actually just one-sided, we are only checking how many times we get randomly a value bigger than what we observed, so if we reject the null hypothesis, we can only prove there was a positive effect, but we don't know ahead of time if there would actually be a negative effect, so we need to do what they call a double-tailed p-value"
   ]
  },
  {
   "cell_type": "code",
   "execution_count": 102,
   "metadata": {},
   "outputs": [
    {
     "name": "stdout",
     "output_type": "stream",
     "text": [
      "p-value (sampling) 0.5052\n"
     ]
    }
   ],
   "source": [
    "sampling_differences_1 = (np.array(variant_sampling) - np.array(base_sampling)) / 10_000\n",
    "sampling_differences_2 = (np.array(base_sampling) - np.array(variant_sampling)) / 10_000\n",
    "\n",
    "times_smaller_than_zero_1 = (np.sum(sampling_differences_1 < 0) / 10_000)\n",
    "times_smaller_than_zero_2 = (np.sum(sampling_differences_2 > 0) / 10_000)\n",
    "\n",
    "print(\"p-value (sampling)\", times_smaller_than_zero_1 + times_smaller_than_zero_2)"
   ]
  },
  {
   "cell_type": "code",
   "execution_count": 103,
   "metadata": {},
   "outputs": [
    {
     "name": "stdout",
     "output_type": "stream",
     "text": [
      "p-value (permutation test):  0.5708\n"
     ]
    }
   ],
   "source": [
    "print(\"p-value (permutation test): \", (\n",
    "    (np.sum(differences <= -observed_difference)\n",
    "     + np.sum(differences >= observed_difference))\n",
    "    / sampling_repetitions\n",
    "))"
   ]
  },
  {
   "cell_type": "code",
   "execution_count": 104,
   "metadata": {},
   "outputs": [
    {
     "data": {
      "text/plain": [
       "0.5195094897720267"
      ]
     },
     "execution_count": 104,
     "metadata": {},
     "output_type": "execute_result"
    }
   ],
   "source": [
    "stats.ttest_ind(base, variant).pvalue"
   ]
  },
  {
   "cell_type": "markdown",
   "metadata": {},
   "source": [
    "As you can see the value is higher, it's harder to get statistically significant results on a double-tailed p-value, but that's what we use on A/B tests. Those one-sided p-values we use on non-inferiority tests, that's why non-inferiority are easier to be significant! Because we don't care that the intervention we are making brings positive results, we just want to be sure it doesn't bring negative ones!"
   ]
  },
  {
   "cell_type": "code",
   "execution_count": null,
   "metadata": {},
   "outputs": [],
   "source": []
  }
 ],
 "metadata": {
  "kernelspec": {
   "display_name": "Python 3",
   "language": "python",
   "name": "python3"
  },
  "language_info": {
   "codemirror_mode": {
    "name": "ipython",
    "version": 3
   },
   "file_extension": ".py",
   "mimetype": "text/x-python",
   "name": "python",
   "nbconvert_exporter": "python",
   "pygments_lexer": "ipython3",
   "version": "3.7.8"
  }
 },
 "nbformat": 4,
 "nbformat_minor": 4
}
